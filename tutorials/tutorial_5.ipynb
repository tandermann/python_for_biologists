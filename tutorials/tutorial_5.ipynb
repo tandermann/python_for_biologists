{
 "cells": [
  {
   "cell_type": "markdown",
   "metadata": {},
   "source": [
    "# Python for biologists\n",
    "\n",
    "## Tutorial 5 - Reading, writing and transforming data with pandas\n",
    "\n",
    "*by Tobias Andermann*\n",
    "\n",
    "After covering the numpy library, we will now proceed to working with real data and get to know the pandas package a bit better, which we already briefly used in one of the previous tutorials. Pandas is a very handy library that allows  working with dataframes of any kind. You can load a range of different types of input data, form csv files, over actual excel files (which is pretty handy), to even loading information from the computer clipboard (e.g. if you copied a large table from e.g. a webpage, you don't even need to paste it anywhere or save to file, but pandas can directly read it).\n",
    "\n",
    "________\n",
    "\n",
    "### Installation\n",
    "\n",
    "If you haven't installed pandas yet, you can do it like this. We will also need matplotlib in this tutorial:\n",
    "\n",
    "```\n",
    "pip install pandas\n",
    "```"
   ]
  },
  {
   "cell_type": "code",
   "execution_count": 3,
   "metadata": {},
   "outputs": [],
   "source": [
    "import pandas as pd"
   ]
  },
  {
   "cell_type": "markdown",
   "metadata": {},
   "source": [
    "You can read a table into python using pandas as follows (adjust the path to where you downloaded the data folder from this github repo (you will have to re-download the GitHub folder to todays files, since I just added the new file after yesterdays tutorial). Here we are reading a tab-delimited text file, using the `read_csv()` function.:"
   ]
  },
  {
   "cell_type": "code",
   "execution_count": 4,
   "metadata": {},
   "outputs": [],
   "source": [
    "data = pd.read_csv('../data/co2_temp.txt',sep='\\t')\n"
   ]
  },
  {
   "cell_type": "markdown",
   "metadata": {},
   "source": [
    "You can view the first lines of the loaded data by using the `.head()` function (instead of printing the complete data on screen, which can be disorienting sometimes):"
   ]
  },
  {
   "cell_type": "code",
   "execution_count": 5,
   "metadata": {},
   "outputs": [
    {
     "data": {
      "text/html": [
       "<div>\n",
       "<style scoped>\n",
       "    .dataframe tbody tr th:only-of-type {\n",
       "        vertical-align: middle;\n",
       "    }\n",
       "\n",
       "    .dataframe tbody tr th {\n",
       "        vertical-align: top;\n",
       "    }\n",
       "\n",
       "    .dataframe thead th {\n",
       "        text-align: right;\n",
       "    }\n",
       "</style>\n",
       "<table border=\"1\" class=\"dataframe\">\n",
       "  <thead>\n",
       "    <tr style=\"text-align: right;\">\n",
       "      <th></th>\n",
       "      <th>year</th>\n",
       "      <th>co2</th>\n",
       "      <th>temperature</th>\n",
       "    </tr>\n",
       "  </thead>\n",
       "  <tbody>\n",
       "    <tr>\n",
       "      <th>0</th>\n",
       "      <td>1880</td>\n",
       "      <td>289.469999</td>\n",
       "      <td>13.81</td>\n",
       "    </tr>\n",
       "    <tr>\n",
       "      <th>1</th>\n",
       "      <td>1881</td>\n",
       "      <td>289.736999</td>\n",
       "      <td>13.89</td>\n",
       "    </tr>\n",
       "    <tr>\n",
       "      <th>2</th>\n",
       "      <td>1882</td>\n",
       "      <td>290.018999</td>\n",
       "      <td>13.89</td>\n",
       "    </tr>\n",
       "    <tr>\n",
       "      <th>3</th>\n",
       "      <td>1883</td>\n",
       "      <td>290.262999</td>\n",
       "      <td>13.80</td>\n",
       "    </tr>\n",
       "    <tr>\n",
       "      <th>4</th>\n",
       "      <td>1884</td>\n",
       "      <td>290.511999</td>\n",
       "      <td>13.71</td>\n",
       "    </tr>\n",
       "  </tbody>\n",
       "</table>\n",
       "</div>"
      ],
      "text/plain": [
       "   year         co2  temperature\n",
       "0  1880  289.469999        13.81\n",
       "1  1881  289.736999        13.89\n",
       "2  1882  290.018999        13.89\n",
       "3  1883  290.262999        13.80\n",
       "4  1884  290.511999        13.71"
      ]
     },
     "execution_count": 5,
     "metadata": {},
     "output_type": "execute_result"
    }
   ],
   "source": [
    "data.head()"
   ]
  },
  {
   "cell_type": "markdown",
   "metadata": {},
   "source": [
    "Another fun way of reading data into python via pandas is to directly load data from the clipboard (i.e. whatever you last copied). For example you can load the data from the `petal_sepal_length.txt` file we used yesterday directly from GitHub by copying the file content in your web-browser and then loading the clipboard here.\n",
    "- Open the file [with this link](https://raw.githubusercontent.com/tobiashofmann88/python_for_biologists/master/data/petal_sepal_length.txt)\n",
    "- Copy the complete file content (but don't paste it anywhere)\n",
    "- Now run the following command (without copying anything else in between, including the command! Pandas will read whatever you last copied)"
   ]
  },
  {
   "cell_type": "code",
   "execution_count": 8,
   "metadata": {},
   "outputs": [
    {
     "data": {
      "text/html": [
       "<div>\n",
       "<style scoped>\n",
       "    .dataframe tbody tr th:only-of-type {\n",
       "        vertical-align: middle;\n",
       "    }\n",
       "\n",
       "    .dataframe tbody tr th {\n",
       "        vertical-align: top;\n",
       "    }\n",
       "\n",
       "    .dataframe thead th {\n",
       "        text-align: right;\n",
       "    }\n",
       "</style>\n",
       "<table border=\"1\" class=\"dataframe\">\n",
       "  <thead>\n",
       "    <tr style=\"text-align: right;\">\n",
       "      <th></th>\n",
       "      <th>sample_name</th>\n",
       "      <th>petal_length</th>\n",
       "      <th>sepal_length</th>\n",
       "    </tr>\n",
       "  </thead>\n",
       "  <tbody>\n",
       "    <tr>\n",
       "      <th>0</th>\n",
       "      <td>sample1</td>\n",
       "      <td>2.037214</td>\n",
       "      <td>5.172704</td>\n",
       "    </tr>\n",
       "    <tr>\n",
       "      <th>1</th>\n",
       "      <td>sample2</td>\n",
       "      <td>4.915837</td>\n",
       "      <td>6.149615</td>\n",
       "    </tr>\n",
       "    <tr>\n",
       "      <th>2</th>\n",
       "      <td>sample3</td>\n",
       "      <td>1.614314</td>\n",
       "      <td>5.939969</td>\n",
       "    </tr>\n",
       "    <tr>\n",
       "      <th>3</th>\n",
       "      <td>sample4</td>\n",
       "      <td>1.525709</td>\n",
       "      <td>6.603432</td>\n",
       "    </tr>\n",
       "    <tr>\n",
       "      <th>4</th>\n",
       "      <td>sample5</td>\n",
       "      <td>3.729975</td>\n",
       "      <td>6.065105</td>\n",
       "    </tr>\n",
       "    <tr>\n",
       "      <th>5</th>\n",
       "      <td>sample6</td>\n",
       "      <td>0.778760</td>\n",
       "      <td>5.173370</td>\n",
       "    </tr>\n",
       "    <tr>\n",
       "      <th>6</th>\n",
       "      <td>sample7</td>\n",
       "      <td>5.291489</td>\n",
       "      <td>7.381162</td>\n",
       "    </tr>\n",
       "    <tr>\n",
       "      <th>7</th>\n",
       "      <td>sample8</td>\n",
       "      <td>5.486099</td>\n",
       "      <td>6.529424</td>\n",
       "    </tr>\n",
       "    <tr>\n",
       "      <th>8</th>\n",
       "      <td>sample9</td>\n",
       "      <td>1.588885</td>\n",
       "      <td>5.447183</td>\n",
       "    </tr>\n",
       "    <tr>\n",
       "      <th>9</th>\n",
       "      <td>sample10</td>\n",
       "      <td>3.506057</td>\n",
       "      <td>5.821899</td>\n",
       "    </tr>\n",
       "    <tr>\n",
       "      <th>10</th>\n",
       "      <td>sample11</td>\n",
       "      <td>1.034731</td>\n",
       "      <td>5.719114</td>\n",
       "    </tr>\n",
       "    <tr>\n",
       "      <th>11</th>\n",
       "      <td>sample12</td>\n",
       "      <td>3.918415</td>\n",
       "      <td>5.324338</td>\n",
       "    </tr>\n",
       "    <tr>\n",
       "      <th>12</th>\n",
       "      <td>sample13</td>\n",
       "      <td>4.704223</td>\n",
       "      <td>6.241321</td>\n",
       "    </tr>\n",
       "    <tr>\n",
       "      <th>13</th>\n",
       "      <td>sample14</td>\n",
       "      <td>1.274312</td>\n",
       "      <td>5.460195</td>\n",
       "    </tr>\n",
       "    <tr>\n",
       "      <th>14</th>\n",
       "      <td>sample15</td>\n",
       "      <td>4.027879</td>\n",
       "      <td>6.018649</td>\n",
       "    </tr>\n",
       "    <tr>\n",
       "      <th>15</th>\n",
       "      <td>sample16</td>\n",
       "      <td>1.052670</td>\n",
       "      <td>6.149158</td>\n",
       "    </tr>\n",
       "    <tr>\n",
       "      <th>16</th>\n",
       "      <td>sample17</td>\n",
       "      <td>5.124328</td>\n",
       "      <td>5.799524</td>\n",
       "    </tr>\n",
       "    <tr>\n",
       "      <th>17</th>\n",
       "      <td>sample18</td>\n",
       "      <td>0.727854</td>\n",
       "      <td>5.111055</td>\n",
       "    </tr>\n",
       "    <tr>\n",
       "      <th>18</th>\n",
       "      <td>sample19</td>\n",
       "      <td>1.889160</td>\n",
       "      <td>5.093237</td>\n",
       "    </tr>\n",
       "    <tr>\n",
       "      <th>19</th>\n",
       "      <td>sample20</td>\n",
       "      <td>5.857770</td>\n",
       "      <td>4.775423</td>\n",
       "    </tr>\n",
       "    <tr>\n",
       "      <th>20</th>\n",
       "      <td>sample21</td>\n",
       "      <td>0.982377</td>\n",
       "      <td>4.570141</td>\n",
       "    </tr>\n",
       "    <tr>\n",
       "      <th>21</th>\n",
       "      <td>sample22</td>\n",
       "      <td>1.642252</td>\n",
       "      <td>5.496335</td>\n",
       "    </tr>\n",
       "    <tr>\n",
       "      <th>22</th>\n",
       "      <td>sample23</td>\n",
       "      <td>1.813812</td>\n",
       "      <td>4.620661</td>\n",
       "    </tr>\n",
       "    <tr>\n",
       "      <th>23</th>\n",
       "      <td>sample24</td>\n",
       "      <td>1.675574</td>\n",
       "      <td>6.098174</td>\n",
       "    </tr>\n",
       "    <tr>\n",
       "      <th>24</th>\n",
       "      <td>sample25</td>\n",
       "      <td>1.402000</td>\n",
       "      <td>4.044937</td>\n",
       "    </tr>\n",
       "    <tr>\n",
       "      <th>25</th>\n",
       "      <td>sample26</td>\n",
       "      <td>5.010073</td>\n",
       "      <td>6.460642</td>\n",
       "    </tr>\n",
       "    <tr>\n",
       "      <th>26</th>\n",
       "      <td>sample27</td>\n",
       "      <td>1.547179</td>\n",
       "      <td>3.810783</td>\n",
       "    </tr>\n",
       "    <tr>\n",
       "      <th>27</th>\n",
       "      <td>sample28</td>\n",
       "      <td>5.583385</td>\n",
       "      <td>6.768361</td>\n",
       "    </tr>\n",
       "    <tr>\n",
       "      <th>28</th>\n",
       "      <td>sample29</td>\n",
       "      <td>5.602358</td>\n",
       "      <td>5.734823</td>\n",
       "    </tr>\n",
       "    <tr>\n",
       "      <th>29</th>\n",
       "      <td>sample30</td>\n",
       "      <td>0.999512</td>\n",
       "      <td>5.644809</td>\n",
       "    </tr>\n",
       "    <tr>\n",
       "      <th>30</th>\n",
       "      <td>sample31</td>\n",
       "      <td>6.357546</td>\n",
       "      <td>6.109699</td>\n",
       "    </tr>\n",
       "    <tr>\n",
       "      <th>31</th>\n",
       "      <td>sample32</td>\n",
       "      <td>1.598450</td>\n",
       "      <td>5.633242</td>\n",
       "    </tr>\n",
       "    <tr>\n",
       "      <th>32</th>\n",
       "      <td>sample33</td>\n",
       "      <td>6.383405</td>\n",
       "      <td>5.473322</td>\n",
       "    </tr>\n",
       "    <tr>\n",
       "      <th>33</th>\n",
       "      <td>sample34</td>\n",
       "      <td>3.502309</td>\n",
       "      <td>6.466854</td>\n",
       "    </tr>\n",
       "    <tr>\n",
       "      <th>34</th>\n",
       "      <td>sample35</td>\n",
       "      <td>1.489134</td>\n",
       "      <td>5.992310</td>\n",
       "    </tr>\n",
       "    <tr>\n",
       "      <th>35</th>\n",
       "      <td>sample36</td>\n",
       "      <td>1.414486</td>\n",
       "      <td>4.211974</td>\n",
       "    </tr>\n",
       "    <tr>\n",
       "      <th>36</th>\n",
       "      <td>sample37</td>\n",
       "      <td>4.695659</td>\n",
       "      <td>5.889835</td>\n",
       "    </tr>\n",
       "    <tr>\n",
       "      <th>37</th>\n",
       "      <td>sample38</td>\n",
       "      <td>4.314651</td>\n",
       "      <td>6.078578</td>\n",
       "    </tr>\n",
       "    <tr>\n",
       "      <th>38</th>\n",
       "      <td>sample39</td>\n",
       "      <td>4.332901</td>\n",
       "      <td>6.525604</td>\n",
       "    </tr>\n",
       "    <tr>\n",
       "      <th>39</th>\n",
       "      <td>sample40</td>\n",
       "      <td>5.355377</td>\n",
       "      <td>6.257550</td>\n",
       "    </tr>\n",
       "    <tr>\n",
       "      <th>40</th>\n",
       "      <td>sample41</td>\n",
       "      <td>4.215726</td>\n",
       "      <td>5.083585</td>\n",
       "    </tr>\n",
       "    <tr>\n",
       "      <th>41</th>\n",
       "      <td>sample42</td>\n",
       "      <td>5.547972</td>\n",
       "      <td>6.519929</td>\n",
       "    </tr>\n",
       "    <tr>\n",
       "      <th>42</th>\n",
       "      <td>sample43</td>\n",
       "      <td>4.877986</td>\n",
       "      <td>5.499600</td>\n",
       "    </tr>\n",
       "    <tr>\n",
       "      <th>43</th>\n",
       "      <td>sample44</td>\n",
       "      <td>1.992262</td>\n",
       "      <td>5.392825</td>\n",
       "    </tr>\n",
       "    <tr>\n",
       "      <th>44</th>\n",
       "      <td>sample45</td>\n",
       "      <td>1.514988</td>\n",
       "      <td>5.229604</td>\n",
       "    </tr>\n",
       "    <tr>\n",
       "      <th>45</th>\n",
       "      <td>sample46</td>\n",
       "      <td>1.624965</td>\n",
       "      <td>4.507328</td>\n",
       "    </tr>\n",
       "    <tr>\n",
       "      <th>46</th>\n",
       "      <td>sample47</td>\n",
       "      <td>1.600432</td>\n",
       "      <td>5.609623</td>\n",
       "    </tr>\n",
       "    <tr>\n",
       "      <th>47</th>\n",
       "      <td>sample48</td>\n",
       "      <td>1.437563</td>\n",
       "      <td>5.288217</td>\n",
       "    </tr>\n",
       "    <tr>\n",
       "      <th>48</th>\n",
       "      <td>sample49</td>\n",
       "      <td>1.549250</td>\n",
       "      <td>5.496506</td>\n",
       "    </tr>\n",
       "    <tr>\n",
       "      <th>49</th>\n",
       "      <td>sample50</td>\n",
       "      <td>5.113597</td>\n",
       "      <td>5.029044</td>\n",
       "    </tr>\n",
       "  </tbody>\n",
       "</table>\n",
       "</div>"
      ],
      "text/plain": [
       "   sample_name  petal_length  sepal_length\n",
       "0      sample1      2.037214      5.172704\n",
       "1      sample2      4.915837      6.149615\n",
       "2      sample3      1.614314      5.939969\n",
       "3      sample4      1.525709      6.603432\n",
       "4      sample5      3.729975      6.065105\n",
       "5      sample6      0.778760      5.173370\n",
       "6      sample7      5.291489      7.381162\n",
       "7      sample8      5.486099      6.529424\n",
       "8      sample9      1.588885      5.447183\n",
       "9     sample10      3.506057      5.821899\n",
       "10    sample11      1.034731      5.719114\n",
       "11    sample12      3.918415      5.324338\n",
       "12    sample13      4.704223      6.241321\n",
       "13    sample14      1.274312      5.460195\n",
       "14    sample15      4.027879      6.018649\n",
       "15    sample16      1.052670      6.149158\n",
       "16    sample17      5.124328      5.799524\n",
       "17    sample18      0.727854      5.111055\n",
       "18    sample19      1.889160      5.093237\n",
       "19    sample20      5.857770      4.775423\n",
       "20    sample21      0.982377      4.570141\n",
       "21    sample22      1.642252      5.496335\n",
       "22    sample23      1.813812      4.620661\n",
       "23    sample24      1.675574      6.098174\n",
       "24    sample25      1.402000      4.044937\n",
       "25    sample26      5.010073      6.460642\n",
       "26    sample27      1.547179      3.810783\n",
       "27    sample28      5.583385      6.768361\n",
       "28    sample29      5.602358      5.734823\n",
       "29    sample30      0.999512      5.644809\n",
       "30    sample31      6.357546      6.109699\n",
       "31    sample32      1.598450      5.633242\n",
       "32    sample33      6.383405      5.473322\n",
       "33    sample34      3.502309      6.466854\n",
       "34    sample35      1.489134      5.992310\n",
       "35    sample36      1.414486      4.211974\n",
       "36    sample37      4.695659      5.889835\n",
       "37    sample38      4.314651      6.078578\n",
       "38    sample39      4.332901      6.525604\n",
       "39    sample40      5.355377      6.257550\n",
       "40    sample41      4.215726      5.083585\n",
       "41    sample42      5.547972      6.519929\n",
       "42    sample43      4.877986      5.499600\n",
       "43    sample44      1.992262      5.392825\n",
       "44    sample45      1.514988      5.229604\n",
       "45    sample46      1.624965      4.507328\n",
       "46    sample47      1.600432      5.609623\n",
       "47    sample48      1.437563      5.288217\n",
       "48    sample49      1.549250      5.496506\n",
       "49    sample50      5.113597      5.029044"
      ]
     },
     "execution_count": 8,
     "metadata": {},
     "output_type": "execute_result"
    }
   ],
   "source": [
    "pd.read_clipboard()"
   ]
  },
  {
   "cell_type": "markdown",
   "metadata": {},
   "source": [
    "Pandas can even read directly from an excel file (which is super useful, as often biological data is stored in horribly large excel files). You can also deal with quite messy excel files as in the example below. View the file in excel to get an idea of what it looks like. In the command below we read the data by specifying the name of the excel sheet (`sheet_name='ESTIMATES'`,the file contains multiple sheets) and by skipping the first 16 lines of unnecessary information (`header=16`):"
   ]
  },
  {
   "cell_type": "code",
   "execution_count": 6,
   "metadata": {},
   "outputs": [
    {
     "data": {
      "text/html": [
       "<div>\n",
       "<style scoped>\n",
       "    .dataframe tbody tr th:only-of-type {\n",
       "        vertical-align: middle;\n",
       "    }\n",
       "\n",
       "    .dataframe tbody tr th {\n",
       "        vertical-align: top;\n",
       "    }\n",
       "\n",
       "    .dataframe thead th {\n",
       "        text-align: right;\n",
       "    }\n",
       "</style>\n",
       "<table border=\"1\" class=\"dataframe\">\n",
       "  <thead>\n",
       "    <tr style=\"text-align: right;\">\n",
       "      <th></th>\n",
       "      <th>Index</th>\n",
       "      <th>Variant</th>\n",
       "      <th>Region, subregion, country or area *</th>\n",
       "      <th>Notes</th>\n",
       "      <th>Country code</th>\n",
       "      <th>1950</th>\n",
       "      <th>1951</th>\n",
       "      <th>1952</th>\n",
       "      <th>1953</th>\n",
       "      <th>1954</th>\n",
       "      <th>...</th>\n",
       "      <th>2006</th>\n",
       "      <th>2007</th>\n",
       "      <th>2008</th>\n",
       "      <th>2009</th>\n",
       "      <th>2010</th>\n",
       "      <th>2011</th>\n",
       "      <th>2012</th>\n",
       "      <th>2013</th>\n",
       "      <th>2014</th>\n",
       "      <th>2015</th>\n",
       "    </tr>\n",
       "  </thead>\n",
       "  <tbody>\n",
       "    <tr>\n",
       "      <th>0</th>\n",
       "      <td>1</td>\n",
       "      <td>Estimates</td>\n",
       "      <td>WORLD</td>\n",
       "      <td>NaN</td>\n",
       "      <td>900</td>\n",
       "      <td>2536274.721</td>\n",
       "      <td>2583816.786</td>\n",
       "      <td>2630584.384</td>\n",
       "      <td>2677230.358</td>\n",
       "      <td>2724302.468</td>\n",
       "      <td>...</td>\n",
       "      <td>6623847.913</td>\n",
       "      <td>6706418.593</td>\n",
       "      <td>6789771.253</td>\n",
       "      <td>6873741.054</td>\n",
       "      <td>6958169.159</td>\n",
       "      <td>7043008.586</td>\n",
       "      <td>7128176.935</td>\n",
       "      <td>7213426.452</td>\n",
       "      <td>7298453.033</td>\n",
       "      <td>7383008.820</td>\n",
       "    </tr>\n",
       "    <tr>\n",
       "      <th>1</th>\n",
       "      <td>2</td>\n",
       "      <td>Estimates</td>\n",
       "      <td>More developed regions</td>\n",
       "      <td>a</td>\n",
       "      <td>901</td>\n",
       "      <td>814865.069</td>\n",
       "      <td>824212.665</td>\n",
       "      <td>834074.389</td>\n",
       "      <td>844263.515</td>\n",
       "      <td>854631.777</td>\n",
       "      <td>...</td>\n",
       "      <td>1215324.559</td>\n",
       "      <td>1220392.009</td>\n",
       "      <td>1225552.166</td>\n",
       "      <td>1230533.857</td>\n",
       "      <td>1235142.506</td>\n",
       "      <td>1239297.769</td>\n",
       "      <td>1243054.571</td>\n",
       "      <td>1246519.987</td>\n",
       "      <td>1249863.519</td>\n",
       "      <td>1253206.546</td>\n",
       "    </tr>\n",
       "    <tr>\n",
       "      <th>2</th>\n",
       "      <td>3</td>\n",
       "      <td>Estimates</td>\n",
       "      <td>Less developed regions</td>\n",
       "      <td>b</td>\n",
       "      <td>902</td>\n",
       "      <td>1721409.652</td>\n",
       "      <td>1759604.121</td>\n",
       "      <td>1796509.995</td>\n",
       "      <td>1832966.843</td>\n",
       "      <td>1869670.691</td>\n",
       "      <td>...</td>\n",
       "      <td>5408523.354</td>\n",
       "      <td>5486026.584</td>\n",
       "      <td>5564219.087</td>\n",
       "      <td>5643207.197</td>\n",
       "      <td>5723026.653</td>\n",
       "      <td>5803710.817</td>\n",
       "      <td>5885122.364</td>\n",
       "      <td>5966906.465</td>\n",
       "      <td>6048589.514</td>\n",
       "      <td>6129802.274</td>\n",
       "    </tr>\n",
       "    <tr>\n",
       "      <th>3</th>\n",
       "      <td>4</td>\n",
       "      <td>Estimates</td>\n",
       "      <td>Least developed countries</td>\n",
       "      <td>c</td>\n",
       "      <td>941</td>\n",
       "      <td>195259.056</td>\n",
       "      <td>199052.136</td>\n",
       "      <td>202904.860</td>\n",
       "      <td>206885.020</td>\n",
       "      <td>211045.058</td>\n",
       "      <td>...</td>\n",
       "      <td>772488.966</td>\n",
       "      <td>790978.141</td>\n",
       "      <td>809730.997</td>\n",
       "      <td>828953.320</td>\n",
       "      <td>848791.962</td>\n",
       "      <td>869298.106</td>\n",
       "      <td>890423.474</td>\n",
       "      <td>912093.996</td>\n",
       "      <td>934192.321</td>\n",
       "      <td>956631.108</td>\n",
       "    </tr>\n",
       "    <tr>\n",
       "      <th>4</th>\n",
       "      <td>5</td>\n",
       "      <td>Estimates</td>\n",
       "      <td>Less developed regions, excluding least develo...</td>\n",
       "      <td>d</td>\n",
       "      <td>934</td>\n",
       "      <td>1526150.596</td>\n",
       "      <td>1560551.985</td>\n",
       "      <td>1593605.135</td>\n",
       "      <td>1626081.823</td>\n",
       "      <td>1658625.633</td>\n",
       "      <td>...</td>\n",
       "      <td>4636034.388</td>\n",
       "      <td>4695048.443</td>\n",
       "      <td>4754488.090</td>\n",
       "      <td>4814253.877</td>\n",
       "      <td>4874234.691</td>\n",
       "      <td>4934412.711</td>\n",
       "      <td>4994698.890</td>\n",
       "      <td>5054812.469</td>\n",
       "      <td>5114397.193</td>\n",
       "      <td>5173171.166</td>\n",
       "    </tr>\n",
       "  </tbody>\n",
       "</table>\n",
       "<p>5 rows × 71 columns</p>\n",
       "</div>"
      ],
      "text/plain": [
       "   Index    Variant               Region, subregion, country or area * Notes  \\\n",
       "0      1  Estimates                                              WORLD   NaN   \n",
       "1      2  Estimates                             More developed regions     a   \n",
       "2      3  Estimates                             Less developed regions     b   \n",
       "3      4  Estimates                          Least developed countries     c   \n",
       "4      5  Estimates  Less developed regions, excluding least develo...     d   \n",
       "\n",
       "   Country code         1950         1951         1952         1953  \\\n",
       "0           900  2536274.721  2583816.786  2630584.384  2677230.358   \n",
       "1           901   814865.069   824212.665   834074.389   844263.515   \n",
       "2           902  1721409.652  1759604.121  1796509.995  1832966.843   \n",
       "3           941   195259.056   199052.136   202904.860   206885.020   \n",
       "4           934  1526150.596  1560551.985  1593605.135  1626081.823   \n",
       "\n",
       "          1954  ...         2006         2007         2008         2009  \\\n",
       "0  2724302.468  ...  6623847.913  6706418.593  6789771.253  6873741.054   \n",
       "1   854631.777  ...  1215324.559  1220392.009  1225552.166  1230533.857   \n",
       "2  1869670.691  ...  5408523.354  5486026.584  5564219.087  5643207.197   \n",
       "3   211045.058  ...   772488.966   790978.141   809730.997   828953.320   \n",
       "4  1658625.633  ...  4636034.388  4695048.443  4754488.090  4814253.877   \n",
       "\n",
       "          2010         2011         2012         2013         2014  \\\n",
       "0  6958169.159  7043008.586  7128176.935  7213426.452  7298453.033   \n",
       "1  1235142.506  1239297.769  1243054.571  1246519.987  1249863.519   \n",
       "2  5723026.653  5803710.817  5885122.364  5966906.465  6048589.514   \n",
       "3   848791.962   869298.106   890423.474   912093.996   934192.321   \n",
       "4  4874234.691  4934412.711  4994698.890  5054812.469  5114397.193   \n",
       "\n",
       "          2015  \n",
       "0  7383008.820  \n",
       "1  1253206.546  \n",
       "2  6129802.274  \n",
       "3   956631.108  \n",
       "4  5173171.166  \n",
       "\n",
       "[5 rows x 71 columns]"
      ]
     },
     "execution_count": 6,
     "metadata": {},
     "output_type": "execute_result"
    }
   ],
   "source": [
    "data_from_excel = pd.read_excel('../data/world_pop_1950_2015.xlsx',\n",
    "                                header=16,\n",
    "                                sheet_name='ESTIMATES')\n",
    "data_from_excel.head()"
   ]
  },
  {
   "cell_type": "markdown",
   "metadata": {},
   "source": [
    "You can select specific subsets of the data by using row and column indeces or by using the actual column names. Let's for example extract the column with the names of all regions:"
   ]
  },
  {
   "cell_type": "code",
   "execution_count": 27,
   "metadata": {},
   "outputs": [
    {
     "data": {
      "text/plain": [
       "0                                                  WORLD\n",
       "1                                 More developed regions\n",
       "2                                 Less developed regions\n",
       "3                              Least developed countries\n",
       "4      Less developed regions, excluding least develo...\n",
       "5                Less developed regions, excluding China\n",
       "6                                  High-income countries\n",
       "7                                Middle-income countries\n",
       "8                          Upper-middle-income countries\n",
       "9                          Lower-middle-income countries\n",
       "10                                  Low-income countries\n",
       "11                                    Sub-Saharan Africa\n",
       "12                                                AFRICA\n",
       "13                                        Eastern Africa\n",
       "14                                               Burundi\n",
       "15                                               Comoros\n",
       "16                                              Djibouti\n",
       "17                                               Eritrea\n",
       "18                                              Ethiopia\n",
       "19                                                 Kenya\n",
       "20                                            Madagascar\n",
       "21                                                Malawi\n",
       "22                                             Mauritius\n",
       "23                                               Mayotte\n",
       "24                                            Mozambique\n",
       "25                                               Réunion\n",
       "26                                                Rwanda\n",
       "27                                            Seychelles\n",
       "28                                               Somalia\n",
       "29                                           South Sudan\n",
       "                             ...                        \n",
       "243                            Saint Pierre and Miquelon\n",
       "244                             United States of America\n",
       "245                                              OCEANIA\n",
       "246                                Australia/New Zealand\n",
       "247                                            Australia\n",
       "248                                          New Zealand\n",
       "249                                            Melanesia\n",
       "250                                                 Fiji\n",
       "251                                        New Caledonia\n",
       "252                                     Papua New Guinea\n",
       "253                                      Solomon Islands\n",
       "254                                              Vanuatu\n",
       "255                                           Micronesia\n",
       "256                                                 Guam\n",
       "257                                             Kiribati\n",
       "258                                     Marshall Islands\n",
       "259                          Micronesia (Fed. States of)\n",
       "260                                                Nauru\n",
       "261                             Northern Mariana Islands\n",
       "262                                                Palau\n",
       "263                                            Polynesia\n",
       "264                                       American Samoa\n",
       "265                                         Cook Islands\n",
       "266                                     French Polynesia\n",
       "267                                                 Niue\n",
       "268                                                Samoa\n",
       "269                                              Tokelau\n",
       "270                                                Tonga\n",
       "271                                               Tuvalu\n",
       "272                            Wallis and Futuna Islands\n",
       "Name: Region, subregion, country or area *, Length: 273, dtype: object"
      ]
     },
     "execution_count": 27,
     "metadata": {},
     "output_type": "execute_result"
    }
   ],
   "source": [
    "data_from_excel['Region, subregion, country or area *']"
   ]
  },
  {
   "cell_type": "markdown",
   "metadata": {},
   "source": [
    "The selected column in printed as a Pandas Series object. You can easily transform the column values into an array by adding `.values`. This makes it sometimes easier to work with the data, particularly if it's numerical data:"
   ]
  },
  {
   "cell_type": "code",
   "execution_count": 28,
   "metadata": {},
   "outputs": [
    {
     "data": {
      "text/plain": [
       "array(['WORLD', 'More developed regions', 'Less developed regions',\n",
       "       'Least developed countries',\n",
       "       'Less developed regions, excluding least developed countries',\n",
       "       'Less developed regions, excluding China', 'High-income countries',\n",
       "       'Middle-income countries', 'Upper-middle-income countries',\n",
       "       'Lower-middle-income countries', 'Low-income countries',\n",
       "       'Sub-Saharan Africa', 'AFRICA', 'Eastern Africa', 'Burundi',\n",
       "       'Comoros', 'Djibouti', 'Eritrea', 'Ethiopia', 'Kenya',\n",
       "       'Madagascar', 'Malawi', 'Mauritius', 'Mayotte', 'Mozambique',\n",
       "       'Réunion', 'Rwanda', 'Seychelles', 'Somalia', 'South Sudan',\n",
       "       'Uganda', 'United Republic of Tanzania', 'Zambia', 'Zimbabwe',\n",
       "       'Middle Africa', 'Angola', 'Cameroon', 'Central African Republic',\n",
       "       'Chad', 'Congo', 'Democratic Republic of the Congo',\n",
       "       'Equatorial Guinea', 'Gabon', 'Sao Tome and Principe',\n",
       "       'Northern Africa', 'Algeria', 'Egypt', 'Libya', 'Morocco', 'Sudan',\n",
       "       'Tunisia', 'Western Sahara', 'Southern Africa', 'Botswana',\n",
       "       'Lesotho', 'Namibia', 'South Africa', 'Swaziland',\n",
       "       'Western Africa', 'Benin', 'Burkina Faso', 'Cabo Verde',\n",
       "       \"Côte d'Ivoire\", 'Gambia', 'Ghana', 'Guinea', 'Guinea-Bissau',\n",
       "       'Liberia', 'Mali', 'Mauritania', 'Niger', 'Nigeria',\n",
       "       'Saint Helena', 'Senegal', 'Sierra Leone', 'Togo', 'ASIA',\n",
       "       'Eastern Asia', 'China', 'China, Hong Kong SAR',\n",
       "       'China, Macao SAR', 'China, Taiwan Province of China',\n",
       "       \"Dem. People's Republic of Korea\", 'Japan', 'Mongolia',\n",
       "       'Republic of Korea', 'South-Central Asia', 'Central Asia',\n",
       "       'Kazakhstan', 'Kyrgyzstan', 'Tajikistan', 'Turkmenistan',\n",
       "       'Uzbekistan', 'Southern Asia', 'Afghanistan', 'Bangladesh',\n",
       "       'Bhutan', 'India', 'Iran (Islamic Republic of)', 'Maldives',\n",
       "       'Nepal', 'Pakistan', 'Sri Lanka', 'South-Eastern Asia',\n",
       "       'Brunei Darussalam', 'Cambodia', 'Indonesia',\n",
       "       \"Lao People's Democratic Republic\", 'Malaysia', 'Myanmar',\n",
       "       'Philippines', 'Singapore', 'Thailand', 'Timor-Leste', 'Viet Nam',\n",
       "       'Western Asia', 'Armenia', 'Azerbaijan', 'Bahrain', 'Cyprus',\n",
       "       'Georgia', 'Iraq', 'Israel', 'Jordan', 'Kuwait', 'Lebanon', 'Oman',\n",
       "       'Qatar', 'Saudi Arabia', 'State of Palestine',\n",
       "       'Syrian Arab Republic', 'Turkey', 'United Arab Emirates', 'Yemen',\n",
       "       'EUROPE', 'Eastern Europe', 'Belarus', 'Bulgaria', 'Czechia',\n",
       "       'Hungary', 'Poland', 'Republic of Moldova', 'Romania',\n",
       "       'Russian Federation', 'Slovakia', 'Ukraine', 'Northern Europe',\n",
       "       'Channel Islands', 'Denmark', 'Estonia', 'Faeroe Islands',\n",
       "       'Finland', 'Iceland', 'Ireland', 'Isle of Man', 'Latvia',\n",
       "       'Lithuania', 'Norway', 'Sweden', 'United Kingdom',\n",
       "       'Southern Europe', 'Albania', 'Andorra', 'Bosnia and Herzegovina',\n",
       "       'Croatia', 'Gibraltar', 'Greece', 'Holy See', 'Italy', 'Malta',\n",
       "       'Montenegro', 'Portugal', 'San Marino', 'Serbia', 'Slovenia',\n",
       "       'Spain', 'TFYR Macedonia', 'Western Europe', 'Austria', 'Belgium',\n",
       "       'France', 'Germany', 'Liechtenstein', 'Luxembourg', 'Monaco',\n",
       "       'Netherlands', 'Switzerland', 'LATIN AMERICA AND THE CARIBBEAN',\n",
       "       'Caribbean', 'Anguilla', 'Antigua and Barbuda', 'Aruba', 'Bahamas',\n",
       "       'Barbados', 'British Virgin Islands', 'Caribbean Netherlands',\n",
       "       'Cayman Islands', 'Cuba', 'Curaçao', 'Dominica',\n",
       "       'Dominican Republic', 'Grenada', 'Guadeloupe', 'Haiti', 'Jamaica',\n",
       "       'Martinique', 'Montserrat', 'Puerto Rico', 'Saint Kitts and Nevis',\n",
       "       'Saint Lucia', 'Saint Vincent and the Grenadines',\n",
       "       'Sint Maarten (Dutch part)', 'Trinidad and Tobago',\n",
       "       'Turks and Caicos Islands', 'United States Virgin Islands',\n",
       "       'Central America', 'Belize', 'Costa Rica', 'El Salvador',\n",
       "       'Guatemala', 'Honduras', 'Mexico', 'Nicaragua', 'Panama',\n",
       "       'South America', 'Argentina', 'Bolivia (Plurinational State of)',\n",
       "       'Brazil', 'Chile', 'Colombia', 'Ecuador',\n",
       "       'Falkland Islands (Malvinas)', 'French Guiana', 'Guyana',\n",
       "       'Paraguay', 'Peru', 'Suriname', 'Uruguay',\n",
       "       'Venezuela (Bolivarian Republic of)', 'NORTHERN AMERICA',\n",
       "       'Bermuda', 'Canada', 'Greenland', 'Saint Pierre and Miquelon',\n",
       "       'United States of America', 'OCEANIA', 'Australia/New Zealand',\n",
       "       'Australia', 'New Zealand', 'Melanesia', 'Fiji', 'New Caledonia',\n",
       "       'Papua New Guinea', 'Solomon Islands', 'Vanuatu', 'Micronesia',\n",
       "       'Guam', 'Kiribati', 'Marshall Islands',\n",
       "       'Micronesia (Fed. States of)', 'Nauru', 'Northern Mariana Islands',\n",
       "       'Palau', 'Polynesia', 'American Samoa', 'Cook Islands',\n",
       "       'French Polynesia', 'Niue', 'Samoa', 'Tokelau', 'Tonga', 'Tuvalu',\n",
       "       'Wallis and Futuna Islands'], dtype=object)"
      ]
     },
     "execution_count": 28,
     "metadata": {},
     "output_type": "execute_result"
    }
   ],
   "source": [
    "data_from_excel['Region, subregion, country or area *'].values"
   ]
  },
  {
   "cell_type": "markdown",
   "metadata": {},
   "source": [
    "Let's say we want to specifically extract data for a given country or region from the dataframe, for example `AFRICA`. We can do that by telling pandas to select everything where the `'Region, subregion, country or area *'` column has the value `AFRICA`:"
   ]
  },
  {
   "cell_type": "code",
   "execution_count": 41,
   "metadata": {},
   "outputs": [
    {
     "data": {
      "text/html": [
       "<div>\n",
       "<style scoped>\n",
       "    .dataframe tbody tr th:only-of-type {\n",
       "        vertical-align: middle;\n",
       "    }\n",
       "\n",
       "    .dataframe tbody tr th {\n",
       "        vertical-align: top;\n",
       "    }\n",
       "\n",
       "    .dataframe thead th {\n",
       "        text-align: right;\n",
       "    }\n",
       "</style>\n",
       "<table border=\"1\" class=\"dataframe\">\n",
       "  <thead>\n",
       "    <tr style=\"text-align: right;\">\n",
       "      <th></th>\n",
       "      <th>Index</th>\n",
       "      <th>Variant</th>\n",
       "      <th>Region, subregion, country or area *</th>\n",
       "      <th>Notes</th>\n",
       "      <th>Country code</th>\n",
       "      <th>1950</th>\n",
       "      <th>1951</th>\n",
       "      <th>1952</th>\n",
       "      <th>1953</th>\n",
       "      <th>1954</th>\n",
       "      <th>...</th>\n",
       "      <th>2006</th>\n",
       "      <th>2007</th>\n",
       "      <th>2008</th>\n",
       "      <th>2009</th>\n",
       "      <th>2010</th>\n",
       "      <th>2011</th>\n",
       "      <th>2012</th>\n",
       "      <th>2013</th>\n",
       "      <th>2014</th>\n",
       "      <th>2015</th>\n",
       "    </tr>\n",
       "  </thead>\n",
       "  <tbody>\n",
       "    <tr>\n",
       "      <th>12</th>\n",
       "      <td>13</td>\n",
       "      <td>Estimates</td>\n",
       "      <td>AFRICA</td>\n",
       "      <td>NaN</td>\n",
       "      <td>903</td>\n",
       "      <td>228670.019</td>\n",
       "      <td>233277.049</td>\n",
       "      <td>238113.121</td>\n",
       "      <td>243177.791</td>\n",
       "      <td>248471.497</td>\n",
       "      <td>...</td>\n",
       "      <td>948156.166</td>\n",
       "      <td>972265.961</td>\n",
       "      <td>997144.67</td>\n",
       "      <td>1022858.654</td>\n",
       "      <td>1049446.344</td>\n",
       "      <td>1076933.813</td>\n",
       "      <td>1105285.268</td>\n",
       "      <td>1134398.192</td>\n",
       "      <td>1164129.789</td>\n",
       "      <td>1194369.908</td>\n",
       "    </tr>\n",
       "  </tbody>\n",
       "</table>\n",
       "<p>1 rows × 71 columns</p>\n",
       "</div>"
      ],
      "text/plain": [
       "    Index    Variant Region, subregion, country or area * Notes  Country code  \\\n",
       "12     13  Estimates                               AFRICA   NaN           903   \n",
       "\n",
       "          1950        1951        1952        1953        1954  ...  \\\n",
       "12  228670.019  233277.049  238113.121  243177.791  248471.497  ...   \n",
       "\n",
       "          2006        2007       2008         2009         2010         2011  \\\n",
       "12  948156.166  972265.961  997144.67  1022858.654  1049446.344  1076933.813   \n",
       "\n",
       "           2012         2013         2014         2015  \n",
       "12  1105285.268  1134398.192  1164129.789  1194369.908  \n",
       "\n",
       "[1 rows x 71 columns]"
      ]
     },
     "execution_count": 41,
     "metadata": {},
     "output_type": "execute_result"
    }
   ],
   "source": [
    "africa_data = data_from_excel[data_from_excel['Region, subregion, country or area *']=='AFRICA']\n",
    "africa_data"
   ]
  },
  {
   "cell_type": "markdown",
   "metadata": {},
   "source": [
    "We can accomplish the same by finding the index of the `AFRICA` data row by hand and selecting it that way, using `.iloc[]`. The only difference is that the resulting object in this case is a pandas series, whereas above it is a pandas dataframe (does not make a real difference for most operations)."
   ]
  },
  {
   "cell_type": "code",
   "execution_count": 42,
   "metadata": {},
   "outputs": [],
   "source": [
    "africa_data = data_from_excel.iloc[12,]"
   ]
  },
  {
   "cell_type": "markdown",
   "metadata": {},
   "source": [
    "If you want to only select the actual population data for Africa, you can do that by providing the column indeces you want ot extract, using the same logic as we did in the numpy tutorial in the array slicing section:"
   ]
  },
  {
   "cell_type": "code",
   "execution_count": 47,
   "metadata": {},
   "outputs": [
    {
     "data": {
      "text/plain": [
       "1950    228670\n",
       "1951    233277\n",
       "1952    238113\n",
       "1953    243178\n",
       "1954    248471\n",
       "Name: 12, dtype: object"
      ]
     },
     "execution_count": 47,
     "metadata": {},
     "output_type": "execute_result"
    }
   ],
   "source": [
    "africa_data = data_from_excel.iloc[12,5:]\n",
    "africa_data.head()"
   ]
  },
  {
   "cell_type": "markdown",
   "metadata": {},
   "source": [
    "Similarly you can also index the target columns using the other approach of data selection from above:"
   ]
  },
  {
   "cell_type": "code",
   "execution_count": 52,
   "metadata": {},
   "outputs": [
    {
     "data": {
      "text/html": [
       "<div>\n",
       "<style scoped>\n",
       "    .dataframe tbody tr th:only-of-type {\n",
       "        vertical-align: middle;\n",
       "    }\n",
       "\n",
       "    .dataframe tbody tr th {\n",
       "        vertical-align: top;\n",
       "    }\n",
       "\n",
       "    .dataframe thead th {\n",
       "        text-align: right;\n",
       "    }\n",
       "</style>\n",
       "<table border=\"1\" class=\"dataframe\">\n",
       "  <thead>\n",
       "    <tr style=\"text-align: right;\">\n",
       "      <th></th>\n",
       "      <th>1950</th>\n",
       "      <th>1951</th>\n",
       "      <th>1952</th>\n",
       "      <th>1953</th>\n",
       "      <th>1954</th>\n",
       "      <th>1955</th>\n",
       "      <th>1956</th>\n",
       "      <th>1957</th>\n",
       "      <th>1958</th>\n",
       "      <th>1959</th>\n",
       "      <th>...</th>\n",
       "      <th>2006</th>\n",
       "      <th>2007</th>\n",
       "      <th>2008</th>\n",
       "      <th>2009</th>\n",
       "      <th>2010</th>\n",
       "      <th>2011</th>\n",
       "      <th>2012</th>\n",
       "      <th>2013</th>\n",
       "      <th>2014</th>\n",
       "      <th>2015</th>\n",
       "    </tr>\n",
       "  </thead>\n",
       "  <tbody>\n",
       "    <tr>\n",
       "      <th>12</th>\n",
       "      <td>228670.019</td>\n",
       "      <td>233277.049</td>\n",
       "      <td>238113.121</td>\n",
       "      <td>243177.791</td>\n",
       "      <td>248471.497</td>\n",
       "      <td>253995.025</td>\n",
       "      <td>259750.195</td>\n",
       "      <td>265739.281</td>\n",
       "      <td>271965.261</td>\n",
       "      <td>278431.545</td>\n",
       "      <td>...</td>\n",
       "      <td>948156.166</td>\n",
       "      <td>972265.961</td>\n",
       "      <td>997144.67</td>\n",
       "      <td>1022858.654</td>\n",
       "      <td>1049446.344</td>\n",
       "      <td>1076933.813</td>\n",
       "      <td>1105285.268</td>\n",
       "      <td>1134398.192</td>\n",
       "      <td>1164129.789</td>\n",
       "      <td>1194369.908</td>\n",
       "    </tr>\n",
       "  </tbody>\n",
       "</table>\n",
       "<p>1 rows × 66 columns</p>\n",
       "</div>"
      ],
      "text/plain": [
       "          1950        1951        1952        1953        1954        1955  \\\n",
       "12  228670.019  233277.049  238113.121  243177.791  248471.497  253995.025   \n",
       "\n",
       "          1956        1957        1958        1959  ...        2006  \\\n",
       "12  259750.195  265739.281  271965.261  278431.545  ...  948156.166   \n",
       "\n",
       "          2007       2008         2009         2010         2011         2012  \\\n",
       "12  972265.961  997144.67  1022858.654  1049446.344  1076933.813  1105285.268   \n",
       "\n",
       "           2013         2014         2015  \n",
       "12  1134398.192  1164129.789  1194369.908  \n",
       "\n",
       "[1 rows x 66 columns]"
      ]
     },
     "execution_count": 52,
     "metadata": {},
     "output_type": "execute_result"
    }
   ],
   "source": [
    "data_from_excel[data_from_excel['Region, subregion, country or area *']=='AFRICA'].iloc[:,5:]"
   ]
  },
  {
   "cell_type": "markdown",
   "metadata": {},
   "source": [
    "To have best control over the data, let's store the values into numpy arrays, using the `.values` function. Since we are extracting the values of a dataframe, it will return one array row per dataframe row. In this case we only have selected one single row to start with, so in order to just store it as a regular 1D array, we select the first row (the only one) by using the index `[0]`:"
   ]
  },
  {
   "cell_type": "code",
   "execution_count": 69,
   "metadata": {},
   "outputs": [],
   "source": [
    "africa_pop_values = data_from_excel[data_from_excel['Region, subregion, country or area *']=='AFRICA'].iloc[:,5:].values[0]"
   ]
  },
  {
   "cell_type": "markdown",
   "metadata": {},
   "source": [
    "To remember which value corresponds to which year, let's also store the column names in an array. You can get the column names using the `.columns` function. Then I store the column names in an array, using the `.values` command and transform them into integers using the `.astype()` function:"
   ]
  },
  {
   "cell_type": "code",
   "execution_count": 70,
   "metadata": {},
   "outputs": [
    {
     "data": {
      "text/plain": [
       "array([1950, 1951, 1952, 1953, 1954, 1955, 1956, 1957, 1958, 1959, 1960,\n",
       "       1961, 1962, 1963, 1964, 1965, 1966, 1967, 1968, 1969, 1970, 1971,\n",
       "       1972, 1973, 1974, 1975, 1976, 1977, 1978, 1979, 1980, 1981, 1982,\n",
       "       1983, 1984, 1985, 1986, 1987, 1988, 1989, 1990, 1991, 1992, 1993,\n",
       "       1994, 1995, 1996, 1997, 1998, 1999, 2000, 2001, 2002, 2003, 2004,\n",
       "       2005, 2006, 2007, 2008, 2009, 2010, 2011, 2012, 2013, 2014, 2015])"
      ]
     },
     "execution_count": 70,
     "metadata": {},
     "output_type": "execute_result"
    }
   ],
   "source": [
    "years_array = data_from_excel.iloc[:,5:].columns.values.astype(int)\n",
    "years_array"
   ]
  },
  {
   "cell_type": "markdown",
   "metadata": {},
   "source": [
    "_____\n",
    "\n",
    "### Plotting the data\n",
    "\n",
    "\n",
    "We can plot the data using matplotlib. "
   ]
  },
  {
   "cell_type": "code",
   "execution_count": 46,
   "metadata": {},
   "outputs": [],
   "source": [
    "import matplotlib.pyplot as plt"
   ]
  },
  {
   "cell_type": "markdown",
   "metadata": {},
   "source": [
    "Now we can plot the data we extracted. Let's plot years on the x-axis and the human population on the y-axis:"
   ]
  },
  {
   "cell_type": "code",
   "execution_count": 73,
   "metadata": {},
   "outputs": [
    {
     "data": {
      "text/plain": [
       "[<matplotlib.lines.Line2D at 0x11eabf6a0>]"
      ]
     },
     "execution_count": 73,
     "metadata": {},
     "output_type": "execute_result"
    },
    {
     "data": {
      "image/png": "[encoded data removed]",
      "text/plain": [
       "<Figure size 432x288 with 1 Axes>"
      ]
     },
     "metadata": {
      "needs_background": "light"
     },
     "output_type": "display_data"
    }
   ],
   "source": [
    "plt.plot(years_array,africa_pop_values)"
   ]
  },
  {
   "cell_type": "markdown",
   "metadata": {},
   "source": [
    "We can improve the looks of the plot a bit by labeling the axes, using the `plt.xlabel()` and `plt.ylabel()` commands:"
   ]
  },
  {
   "cell_type": "code",
   "execution_count": 78,
   "metadata": {},
   "outputs": [
    {
     "data": {
      "image/png": "[encoded data removed]",
      "text/plain": [
       "<Figure size 432x288 with 1 Axes>"
      ]
     },
     "metadata": {
      "needs_background": "light"
     },
     "output_type": "display_data"
    }
   ],
   "source": [
    "plt.plot(years_array,africa_pop_values);\n",
    "plt.xlabel('Year');\n",
    "plt.ylabel('Human population');"
   ]
  },
  {
   "cell_type": "markdown",
   "metadata": {},
   "source": [
    "Let's also define the color of the plotted line, as well as adding a legend. Color can eb defined using the `color=` argument in the plotting command. By giving the plot a label (`label=`) we can plot a legend witht he `plt.legend()` command that automatically pulls the colors and titles of all data in the plot (especially useful when plotting multiple lines):"
   ]
  },
  {
   "cell_type": "code",
   "execution_count": 84,
   "metadata": {
    "scrolled": true
   },
   "outputs": [
    {
     "data": {
      "text/plain": [
       "<matplotlib.legend.Legend at 0x11f26f898>"
      ]
     },
     "execution_count": 84,
     "metadata": {},
     "output_type": "execute_result"
    },
    {
     "data": {
      "image/png": "[encoded data removed]",
      "text/plain": [
       "<Figure size 432x288 with 1 Axes>"
      ]
     },
     "metadata": {
      "needs_background": "light"
     },
     "output_type": "display_data"
    }
   ],
   "source": [
    "sub_saharan_africa_pop_values = data_from_excel[data_from_excel['Region, subregion, country or area *']=='Sub-Saharan Africa'].iloc[:,5:].values[0]\n",
    "\n",
    "plt.plot(years_array,africa_pop_values,color='red', label='Africa');\n",
    "plt.plot(years_array,sub_saharan_africa_pop_values,color='orange', label='Sub-Saharan');\n",
    "plt.xlabel('Year');\n",
    "plt.ylabel('Human population');\n",
    "plt.legend()"
   ]
  },
  {
   "cell_type": "markdown",
   "metadata": {},
   "source": [
    "You can find more plotting options to tweek your plots here: https://matplotlib.org/3.1.1/api/_as_gen/matplotlib.pyplot.plot.html"
   ]
  },
  {
   "cell_type": "markdown",
   "metadata": {},
   "source": [
    "If you want to store your plot to a pdf file you first have to define a figure instance (`fig = plt.figure()`) and then save it (`fig.savefig()`) after the plotting commands are executed. You can also adjust the size of the figure by providing the `figsize = ` setting in the `plt.figure()` command."
   ]
  },
  {
   "cell_type": "code",
   "execution_count": 87,
   "metadata": {},
   "outputs": [
    {
     "data": {
      "image/png": "[encoded data removed]",
      "text/plain": [
       "<Figure size 432x432 with 1 Axes>"
      ]
     },
     "metadata": {
      "needs_background": "light"
     },
     "output_type": "display_data"
    }
   ],
   "source": [
    "fig = plt.figure(figsize = (6,6))\n",
    "plt.plot(years_array,africa_pop_values,color='red', label='Africa');\n",
    "plt.plot(years_array,sub_saharan_africa_pop_values,color='orange', label='Sub-Saharan');\n",
    "plt.xlabel('Year');\n",
    "plt.ylabel('Human population');\n",
    "plt.legend()\n",
    "fig.savefig('/Users/tobias/GitHub/workshops/advanced_python/output_files/human_pop.pdf',dpi = 500)"
   ]
  },
  {
   "cell_type": "markdown",
   "metadata": {},
   "source": [
    "<div class=\"alert alert-block alert-warning\">\n",
    "**TASK:** Plot the human population trends for all continents (or any set of countries/regions you prefer), using the pandas data-selection tools you just learned. You can plot multiple lines into the same plot by just executing multiple plot commands at the same time. You may need to log-transform the population size values in order to properly visualize the trends for all continents in comparison, mainly because Asia has such a large population.\n",
    "</div>\n"
   ]
  },
  {
   "cell_type": "markdown",
   "metadata": {},
   "source": [
    "Explore the multitude of pandas options on the [official pandas page](https://pandas.pydata.org/pandas-docs/stable/reference/api/pandas.DataFrame.html)."
   ]
  },
  {
   "cell_type": "markdown",
   "metadata": {},
   "source": [
    "Let's move on to [tutorial 6](https://github.com/tobiashofmann88/python_for_biologists/blob/master/tutorials/tutorial_6.ipynb)"
   ]
  }
 ],
 "metadata": {
  "kernelspec": {
   "display_name": "Python 3",
   "language": "python",
   "name": "python3"
  },
  "language_info": {
   "codemirror_mode": {
    "name": "ipython",
    "version": 3
   },
   "file_extension": ".py",
   "mimetype": "text/x-python",
   "name": "python",
   "nbconvert_exporter": "python",
   "pygments_lexer": "ipython3",
   "version": "3.7.4"
  }
 },
 "nbformat": 4,
 "nbformat_minor": 2
}
