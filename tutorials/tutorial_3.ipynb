{
 "cells": [
  {
   "cell_type": "markdown",
   "metadata": {},
   "source": [
    "# Python for biologists\n",
    "\n",
    "## Tutorial B --> Read, process, and plot biological data (tabular format) \n",
    "\n",
    "*by Tobias Andermann*\n",
    "\n",
    "In this tutorial you learn how to read data frames with python and how to select, transform, analyze, and plot the data.\n",
    "You can find a data file named `petal_sepal_length.txt` in the tutorial folder. This file contains the measured lengths of petals and sepals of 50 individuals of the plant species `Iris pythonica` (fake data). All individuals are classified as the same species and we want to test if we can find any clustering of these characters or if they are continuously distributed. Some of the following steps are not necessary for this purpose but are meant to provide some useful commands whihc can be used in many different situations."
   ]
  },
  {
   "cell_type": "markdown",
   "metadata": {},
   "source": [
    "### 1. Install pandas\n",
    "If not already installed you need to install the pandas python library. For this you can just type the following in your jupyter notebook or bash command line (without the `%%bash` in commandline mode):\n",
    "\n",
    "```\n",
    "%%bash\n",
    "pip install pandas\n",
    "```"
   ]
  },
  {
   "cell_type": "markdown",
   "metadata": {},
   "source": [
    "### 2. Use pandas to read a dataframe\n",
    "Use the `read_csv()` function to read the csv file. You have to specify how the cells in the file are delimited (`,` is the default), which in this case is tab-delimited (`\\t`).\n",
    "\n",
    "Note: the pandas library also has a very hand `read_excel()` function which can be used to read excel files directly (no exporting of data in csv format necessary). Try it out if you have some excel file on your computer that you want to read into python."
   ]
  },
  {
   "cell_type": "code",
   "execution_count": 2,
   "metadata": {},
   "outputs": [],
   "source": [
    "import pandas as pd\n",
    "data = pd.read_csv('./petal_sepal_length.txt',sep='\\t')"
   ]
  },
  {
   "cell_type": "markdown",
   "metadata": {},
   "source": [
    "View the first 10 lines of the dataframe using `head()`."
   ]
  },
  {
   "cell_type": "code",
   "execution_count": 3,
   "metadata": {},
   "outputs": [
    {
     "data": {
      "text/html": [
       "<div>\n",
       "<table border=\"1\" class=\"dataframe\">\n",
       "  <thead>\n",
       "    <tr style=\"text-align: right;\">\n",
       "      <th></th>\n",
       "      <th>sample_name</th>\n",
       "      <th>petal_length</th>\n",
       "      <th>sepal_length</th>\n",
       "    </tr>\n",
       "  </thead>\n",
       "  <tbody>\n",
       "    <tr>\n",
       "      <th>0</th>\n",
       "      <td>sample1</td>\n",
       "      <td>2.037214</td>\n",
       "      <td>5.172704</td>\n",
       "    </tr>\n",
       "    <tr>\n",
       "      <th>1</th>\n",
       "      <td>sample2</td>\n",
       "      <td>4.915837</td>\n",
       "      <td>6.149615</td>\n",
       "    </tr>\n",
       "    <tr>\n",
       "      <th>2</th>\n",
       "      <td>sample3</td>\n",
       "      <td>1.614314</td>\n",
       "      <td>5.939969</td>\n",
       "    </tr>\n",
       "    <tr>\n",
       "      <th>3</th>\n",
       "      <td>sample4</td>\n",
       "      <td>1.525709</td>\n",
       "      <td>6.603432</td>\n",
       "    </tr>\n",
       "    <tr>\n",
       "      <th>4</th>\n",
       "      <td>sample5</td>\n",
       "      <td>3.729975</td>\n",
       "      <td>6.065105</td>\n",
       "    </tr>\n",
       "    <tr>\n",
       "      <th>5</th>\n",
       "      <td>sample6</td>\n",
       "      <td>0.778760</td>\n",
       "      <td>5.173370</td>\n",
       "    </tr>\n",
       "    <tr>\n",
       "      <th>6</th>\n",
       "      <td>sample7</td>\n",
       "      <td>5.291489</td>\n",
       "      <td>7.381162</td>\n",
       "    </tr>\n",
       "    <tr>\n",
       "      <th>7</th>\n",
       "      <td>sample8</td>\n",
       "      <td>5.486099</td>\n",
       "      <td>6.529424</td>\n",
       "    </tr>\n",
       "    <tr>\n",
       "      <th>8</th>\n",
       "      <td>sample9</td>\n",
       "      <td>1.588885</td>\n",
       "      <td>5.447183</td>\n",
       "    </tr>\n",
       "    <tr>\n",
       "      <th>9</th>\n",
       "      <td>sample10</td>\n",
       "      <td>3.506057</td>\n",
       "      <td>5.821899</td>\n",
       "    </tr>\n",
       "  </tbody>\n",
       "</table>\n",
       "</div>"
      ],
      "text/plain": [
       "  sample_name  petal_length  sepal_length\n",
       "0     sample1      2.037214      5.172704\n",
       "1     sample2      4.915837      6.149615\n",
       "2     sample3      1.614314      5.939969\n",
       "3     sample4      1.525709      6.603432\n",
       "4     sample5      3.729975      6.065105\n",
       "5     sample6      0.778760      5.173370\n",
       "6     sample7      5.291489      7.381162\n",
       "7     sample8      5.486099      6.529424\n",
       "8     sample9      1.588885      5.447183\n",
       "9    sample10      3.506057      5.821899"
      ]
     },
     "execution_count": 3,
     "metadata": {},
     "output_type": "execute_result"
    }
   ],
   "source": [
    "data.head(10)"
   ]
  },
  {
   "cell_type": "markdown",
   "metadata": {},
   "source": [
    "Use the .iloc() function to extract a specific cell form the dataframe, e.g. the 2nd cell in the 2nd column (remember that python indexing starts with 0, so the element we want to print has the index 1,1):"
   ]
  },
  {
   "cell_type": "code",
   "execution_count": 10,
   "metadata": {},
   "outputs": [
    {
     "data": {
      "text/plain": [
       "4.915837058559057"
      ]
     },
     "execution_count": 10,
     "metadata": {},
     "output_type": "execute_result"
    }
   ],
   "source": [
    "data.iloc[1,1]"
   ]
  },
  {
   "cell_type": "markdown",
   "metadata": {},
   "source": [
    "Check the column names of the dataframe:"
   ]
  },
  {
   "cell_type": "code",
   "execution_count": 4,
   "metadata": {},
   "outputs": [
    {
     "data": {
      "text/plain": [
       "Index(['sample_name', 'petal_length', 'sepal_length'], dtype='object')"
      ]
     },
     "execution_count": 4,
     "metadata": {},
     "output_type": "execute_result"
    }
   ],
   "source": [
    "data.columns"
   ]
  },
  {
   "cell_type": "markdown",
   "metadata": {},
   "source": [
    "Extract one of the columns by name. You can either do it this way:"
   ]
  },
  {
   "cell_type": "code",
   "execution_count": 17,
   "metadata": {},
   "outputs": [
    {
     "data": {
      "text/plain": [
       "0     2.037214\n",
       "1     4.915837\n",
       "2     1.614314\n",
       "3     1.525709\n",
       "4     3.729975\n",
       "5     0.778760\n",
       "6     5.291489\n",
       "7     5.486099\n",
       "8     1.588885\n",
       "9     3.506057\n",
       "10    1.034731\n",
       "11    3.918415\n",
       "12    4.704223\n",
       "13    1.274312\n",
       "14    4.027879\n",
       "15    1.052670\n",
       "16    5.124328\n",
       "17    0.727854\n",
       "18    1.889160\n",
       "19    5.857770\n",
       "20    0.982377\n",
       "21    1.642252\n",
       "22    1.813812\n",
       "23    1.675574\n",
       "24    1.402000\n",
       "25    5.010073\n",
       "26    1.547179\n",
       "27    5.583385\n",
       "28    5.602358\n",
       "29    0.999512\n",
       "30    6.357546\n",
       "31    1.598450\n",
       "32    6.383405\n",
       "33    3.502309\n",
       "34    1.489134\n",
       "35    1.414486\n",
       "36    4.695659\n",
       "37    4.314651\n",
       "38    4.332901\n",
       "39    5.355377\n",
       "40    4.215726\n",
       "41    5.547972\n",
       "42    4.877986\n",
       "43    1.992262\n",
       "44    1.514988\n",
       "45    1.624965\n",
       "46    1.600432\n",
       "47    1.437563\n",
       "48    1.549250\n",
       "49    5.113597\n",
       "Name: petal_length, dtype: float64"
      ]
     },
     "execution_count": 17,
     "metadata": {},
     "output_type": "execute_result"
    }
   ],
   "source": [
    "data.petal_length"
   ]
  },
  {
   "cell_type": "markdown",
   "metadata": {},
   "source": [
    "Or this way:"
   ]
  },
  {
   "cell_type": "code",
   "execution_count": 15,
   "metadata": {},
   "outputs": [
    {
     "data": {
      "text/plain": [
       "0     2.037214\n",
       "1     4.915837\n",
       "2     1.614314\n",
       "3     1.525709\n",
       "4     3.729975\n",
       "5     0.778760\n",
       "6     5.291489\n",
       "7     5.486099\n",
       "8     1.588885\n",
       "9     3.506057\n",
       "10    1.034731\n",
       "11    3.918415\n",
       "12    4.704223\n",
       "13    1.274312\n",
       "14    4.027879\n",
       "15    1.052670\n",
       "16    5.124328\n",
       "17    0.727854\n",
       "18    1.889160\n",
       "19    5.857770\n",
       "20    0.982377\n",
       "21    1.642252\n",
       "22    1.813812\n",
       "23    1.675574\n",
       "24    1.402000\n",
       "25    5.010073\n",
       "26    1.547179\n",
       "27    5.583385\n",
       "28    5.602358\n",
       "29    0.999512\n",
       "30    6.357546\n",
       "31    1.598450\n",
       "32    6.383405\n",
       "33    3.502309\n",
       "34    1.489134\n",
       "35    1.414486\n",
       "36    4.695659\n",
       "37    4.314651\n",
       "38    4.332901\n",
       "39    5.355377\n",
       "40    4.215726\n",
       "41    5.547972\n",
       "42    4.877986\n",
       "43    1.992262\n",
       "44    1.514988\n",
       "45    1.624965\n",
       "46    1.600432\n",
       "47    1.437563\n",
       "48    1.549250\n",
       "49    5.113597\n",
       "Name: petal_length, dtype: float64"
      ]
     },
     "execution_count": 15,
     "metadata": {},
     "output_type": "execute_result"
    }
   ],
   "source": [
    "data['petal_length']"
   ]
  },
  {
   "cell_type": "markdown",
   "metadata": {},
   "source": [
    "Check length of dataframe:"
   ]
  },
  {
   "cell_type": "code",
   "execution_count": 5,
   "metadata": {},
   "outputs": [
    {
     "data": {
      "text/plain": [
       "50"
      ]
     },
     "execution_count": 5,
     "metadata": {},
     "output_type": "execute_result"
    }
   ],
   "source": [
    "len(data)"
   ]
  },
  {
   "cell_type": "markdown",
   "metadata": {},
   "source": [
    "### 3. Transform and filter data frame:"
   ]
  },
  {
   "cell_type": "markdown",
   "metadata": {},
   "source": [
    "Sort the dataframe by one of the column values, e.g. by the column `petal_length`.\n",
    "\n",
    "In the example command I'm not storing the sorted dataframe, but am simply printing it to the screen. If you want to store the sorted dataframe, you can define the sorted dataframe as a new variable or use the `inplace=True` flag inside the command."
   ]
  },
  {
   "cell_type": "code",
   "execution_count": 6,
   "metadata": {
    "scrolled": false
   },
   "outputs": [
    {
     "data": {
      "text/html": [
       "<div>\n",
       "<table border=\"1\" class=\"dataframe\">\n",
       "  <thead>\n",
       "    <tr style=\"text-align: right;\">\n",
       "      <th></th>\n",
       "      <th>sample_name</th>\n",
       "      <th>petal_length</th>\n",
       "      <th>sepal_length</th>\n",
       "    </tr>\n",
       "  </thead>\n",
       "  <tbody>\n",
       "    <tr>\n",
       "      <th>32</th>\n",
       "      <td>sample33</td>\n",
       "      <td>6.383405</td>\n",
       "      <td>5.473322</td>\n",
       "    </tr>\n",
       "    <tr>\n",
       "      <th>30</th>\n",
       "      <td>sample31</td>\n",
       "      <td>6.357546</td>\n",
       "      <td>6.109699</td>\n",
       "    </tr>\n",
       "    <tr>\n",
       "      <th>19</th>\n",
       "      <td>sample20</td>\n",
       "      <td>5.857770</td>\n",
       "      <td>4.775423</td>\n",
       "    </tr>\n",
       "    <tr>\n",
       "      <th>28</th>\n",
       "      <td>sample29</td>\n",
       "      <td>5.602358</td>\n",
       "      <td>5.734823</td>\n",
       "    </tr>\n",
       "    <tr>\n",
       "      <th>27</th>\n",
       "      <td>sample28</td>\n",
       "      <td>5.583385</td>\n",
       "      <td>6.768361</td>\n",
       "    </tr>\n",
       "    <tr>\n",
       "      <th>41</th>\n",
       "      <td>sample42</td>\n",
       "      <td>5.547972</td>\n",
       "      <td>6.519929</td>\n",
       "    </tr>\n",
       "    <tr>\n",
       "      <th>7</th>\n",
       "      <td>sample8</td>\n",
       "      <td>5.486099</td>\n",
       "      <td>6.529424</td>\n",
       "    </tr>\n",
       "    <tr>\n",
       "      <th>39</th>\n",
       "      <td>sample40</td>\n",
       "      <td>5.355377</td>\n",
       "      <td>6.257550</td>\n",
       "    </tr>\n",
       "    <tr>\n",
       "      <th>6</th>\n",
       "      <td>sample7</td>\n",
       "      <td>5.291489</td>\n",
       "      <td>7.381162</td>\n",
       "    </tr>\n",
       "    <tr>\n",
       "      <th>16</th>\n",
       "      <td>sample17</td>\n",
       "      <td>5.124328</td>\n",
       "      <td>5.799524</td>\n",
       "    </tr>\n",
       "    <tr>\n",
       "      <th>49</th>\n",
       "      <td>sample50</td>\n",
       "      <td>5.113597</td>\n",
       "      <td>5.029044</td>\n",
       "    </tr>\n",
       "    <tr>\n",
       "      <th>25</th>\n",
       "      <td>sample26</td>\n",
       "      <td>5.010073</td>\n",
       "      <td>6.460642</td>\n",
       "    </tr>\n",
       "    <tr>\n",
       "      <th>1</th>\n",
       "      <td>sample2</td>\n",
       "      <td>4.915837</td>\n",
       "      <td>6.149615</td>\n",
       "    </tr>\n",
       "    <tr>\n",
       "      <th>42</th>\n",
       "      <td>sample43</td>\n",
       "      <td>4.877986</td>\n",
       "      <td>5.499600</td>\n",
       "    </tr>\n",
       "    <tr>\n",
       "      <th>12</th>\n",
       "      <td>sample13</td>\n",
       "      <td>4.704223</td>\n",
       "      <td>6.241321</td>\n",
       "    </tr>\n",
       "  </tbody>\n",
       "</table>\n",
       "</div>"
      ],
      "text/plain": [
       "   sample_name  petal_length  sepal_length\n",
       "32    sample33      6.383405      5.473322\n",
       "30    sample31      6.357546      6.109699\n",
       "19    sample20      5.857770      4.775423\n",
       "28    sample29      5.602358      5.734823\n",
       "27    sample28      5.583385      6.768361\n",
       "41    sample42      5.547972      6.519929\n",
       "7      sample8      5.486099      6.529424\n",
       "39    sample40      5.355377      6.257550\n",
       "6      sample7      5.291489      7.381162\n",
       "16    sample17      5.124328      5.799524\n",
       "49    sample50      5.113597      5.029044\n",
       "25    sample26      5.010073      6.460642\n",
       "1      sample2      4.915837      6.149615\n",
       "42    sample43      4.877986      5.499600\n",
       "12    sample13      4.704223      6.241321"
      ]
     },
     "execution_count": 6,
     "metadata": {},
     "output_type": "execute_result"
    }
   ],
   "source": [
    "data.sort_values(by=['petal_length'],ascending=False).head(15)"
   ]
  },
  {
   "cell_type": "markdown",
   "metadata": {},
   "source": [
    "Let's say we want to find those samples, which have a petal length of more than 5. We can do that rather easily with pandas, using some simple indexing. If we use the square brackets `[]` it basically translates into \"extract those elements where condition is fulfilled\":"
   ]
  },
  {
   "cell_type": "code",
   "execution_count": 62,
   "metadata": {},
   "outputs": [
    {
     "data": {
      "text/html": [
       "<div>\n",
       "<table border=\"1\" class=\"dataframe\">\n",
       "  <thead>\n",
       "    <tr style=\"text-align: right;\">\n",
       "      <th></th>\n",
       "      <th>sample_name</th>\n",
       "      <th>petal_length</th>\n",
       "      <th>sepal_length</th>\n",
       "    </tr>\n",
       "  </thead>\n",
       "  <tbody>\n",
       "    <tr>\n",
       "      <th>6</th>\n",
       "      <td>sample7</td>\n",
       "      <td>5.291489</td>\n",
       "      <td>7.381162</td>\n",
       "    </tr>\n",
       "    <tr>\n",
       "      <th>7</th>\n",
       "      <td>sample8</td>\n",
       "      <td>5.486099</td>\n",
       "      <td>6.529424</td>\n",
       "    </tr>\n",
       "    <tr>\n",
       "      <th>16</th>\n",
       "      <td>sample17</td>\n",
       "      <td>5.124328</td>\n",
       "      <td>5.799524</td>\n",
       "    </tr>\n",
       "    <tr>\n",
       "      <th>19</th>\n",
       "      <td>sample20</td>\n",
       "      <td>5.857770</td>\n",
       "      <td>4.775423</td>\n",
       "    </tr>\n",
       "    <tr>\n",
       "      <th>25</th>\n",
       "      <td>sample26</td>\n",
       "      <td>5.010073</td>\n",
       "      <td>6.460642</td>\n",
       "    </tr>\n",
       "    <tr>\n",
       "      <th>27</th>\n",
       "      <td>sample28</td>\n",
       "      <td>5.583385</td>\n",
       "      <td>6.768361</td>\n",
       "    </tr>\n",
       "    <tr>\n",
       "      <th>28</th>\n",
       "      <td>sample29</td>\n",
       "      <td>5.602358</td>\n",
       "      <td>5.734823</td>\n",
       "    </tr>\n",
       "    <tr>\n",
       "      <th>30</th>\n",
       "      <td>sample31</td>\n",
       "      <td>6.357546</td>\n",
       "      <td>6.109699</td>\n",
       "    </tr>\n",
       "    <tr>\n",
       "      <th>32</th>\n",
       "      <td>sample33</td>\n",
       "      <td>6.383405</td>\n",
       "      <td>5.473322</td>\n",
       "    </tr>\n",
       "    <tr>\n",
       "      <th>39</th>\n",
       "      <td>sample40</td>\n",
       "      <td>5.355377</td>\n",
       "      <td>6.257550</td>\n",
       "    </tr>\n",
       "    <tr>\n",
       "      <th>41</th>\n",
       "      <td>sample42</td>\n",
       "      <td>5.547972</td>\n",
       "      <td>6.519929</td>\n",
       "    </tr>\n",
       "    <tr>\n",
       "      <th>49</th>\n",
       "      <td>sample50</td>\n",
       "      <td>5.113597</td>\n",
       "      <td>5.029044</td>\n",
       "    </tr>\n",
       "  </tbody>\n",
       "</table>\n",
       "</div>"
      ],
      "text/plain": [
       "   sample_name  petal_length  sepal_length\n",
       "6      sample7      5.291489      7.381162\n",
       "7      sample8      5.486099      6.529424\n",
       "16    sample17      5.124328      5.799524\n",
       "19    sample20      5.857770      4.775423\n",
       "25    sample26      5.010073      6.460642\n",
       "27    sample28      5.583385      6.768361\n",
       "28    sample29      5.602358      5.734823\n",
       "30    sample31      6.357546      6.109699\n",
       "32    sample33      6.383405      5.473322\n",
       "39    sample40      5.355377      6.257550\n",
       "41    sample42      5.547972      6.519929\n",
       "49    sample50      5.113597      5.029044"
      ]
     },
     "execution_count": 62,
     "metadata": {},
     "output_type": "execute_result"
    }
   ],
   "source": [
    "data[data.petal_length>5]"
   ]
  },
  {
   "cell_type": "markdown",
   "metadata": {},
   "source": [
    "Now let's store the data from the dataframe into lists:"
   ]
  },
  {
   "cell_type": "code",
   "execution_count": 18,
   "metadata": {},
   "outputs": [],
   "source": [
    "petal_list = list(data.petal_length)\n",
    "sepal_list = list(data.sepal_length)"
   ]
  },
  {
   "cell_type": "markdown",
   "metadata": {},
   "source": [
    "### 4. Plot the data"
   ]
  },
  {
   "cell_type": "markdown",
   "metadata": {},
   "source": [
    "In order to plot in python you need to import the library `matplotlib.pyplot`. If `matplotlib` is not already installed, do so by typing the following in your jupyter notebook or bash command line (without the `%%bash` in commandline mode):\n",
    "\n",
    "```\n",
    "%%bash\n",
    "pip install matplotlib\n",
    "```"
   ]
  },
  {
   "cell_type": "markdown",
   "metadata": {},
   "source": [
    "Import the matplotlib.pyplot library and activate the plotting option in the jupyter notebook (activation not required if you are working in spyder)."
   ]
  },
  {
   "cell_type": "code",
   "execution_count": 20,
   "metadata": {},
   "outputs": [],
   "source": [
    "import matplotlib.pyplot as plt\n",
    "%matplotlib inline"
   ]
  },
  {
   "cell_type": "markdown",
   "metadata": {},
   "source": [
    "Now plot the data as a scatter plot"
   ]
  },
  {
   "cell_type": "code",
   "execution_count": 21,
   "metadata": {},
   "outputs": [
    {
     "data": {
      "text/plain": [
       "<matplotlib.collections.PathCollection at 0x1140d1710>"
      ]
     },
     "execution_count": 21,
     "metadata": {},
     "output_type": "execute_result"
    },
    {
     "data": {
      "image/png": "[encoded data removed]",
      "text/plain": [
       "<matplotlib.figure.Figure at 0x115ced2e8>"
      ]
     },
     "metadata": {},
     "output_type": "display_data"
    }
   ],
   "source": [
    "plt.scatter(petal_list,sepal_list)"
   ]
  },
  {
   "cell_type": "markdown",
   "metadata": {},
   "source": [
    "You can modify the plot by adding labels to the axis. In python the plot is being modified in \"layers\", which means, every modification/addition is stated in a new line:"
   ]
  },
  {
   "cell_type": "code",
   "execution_count": 26,
   "metadata": {
    "scrolled": true
   },
   "outputs": [
    {
     "data": {
      "text/plain": [
       "<matplotlib.text.Text at 0x118e90a58>"
      ]
     },
     "execution_count": 26,
     "metadata": {},
     "output_type": "execute_result"
    },
    {
     "data": {
      "image/png": "[encoded data removed]",
      "text/plain": [
       "<matplotlib.figure.Figure at 0x116a19898>"
      ]
     },
     "metadata": {},
     "output_type": "display_data"
    }
   ],
   "source": [
    "plt.scatter(petal_list,sepal_list)\n",
    "plt.xlabel('petal length')\n",
    "plt.ylabel('sepal length')\n",
    "plt.title('Iris data')"
   ]
  },
  {
   "cell_type": "markdown",
   "metadata": {},
   "source": [
    "You can change the color of the plot like this:"
   ]
  },
  {
   "cell_type": "code",
   "execution_count": 29,
   "metadata": {},
   "outputs": [
    {
     "data": {
      "text/plain": [
       "<matplotlib.text.Text at 0x1195fd048>"
      ]
     },
     "execution_count": 29,
     "metadata": {},
     "output_type": "execute_result"
    },
    {
     "data": {
      "image/png": "[encoded data removed]",
      "text/plain": [
       "<matplotlib.figure.Figure at 0x118d3bbe0>"
      ]
     },
     "metadata": {},
     "output_type": "display_data"
    }
   ],
   "source": [
    "plt.scatter(petal_list,sepal_list,color='green')\n",
    "plt.xlabel('petal length')\n",
    "plt.ylabel('sepal length')\n",
    "plt.title('Iris data')"
   ]
  },
  {
   "cell_type": "markdown",
   "metadata": {},
   "source": [
    "Or change the shape of the plotted points:"
   ]
  },
  {
   "cell_type": "code",
   "execution_count": 35,
   "metadata": {},
   "outputs": [
    {
     "data": {
      "text/plain": [
       "<matplotlib.text.Text at 0x1196349b0>"
      ]
     },
     "execution_count": 35,
     "metadata": {},
     "output_type": "execute_result"
    },
    {
     "data": {
      "image/png": "[encoded data removed]",
      "text/plain": [
       "<matplotlib.figure.Figure at 0x119a647b8>"
      ]
     },
     "metadata": {},
     "output_type": "display_data"
    }
   ],
   "source": [
    "plt.scatter(petal_list,sepal_list,color='green',marker='^')\n",
    "plt.xlabel('petal length')\n",
    "plt.ylabel('sepal length')\n",
    "plt.title('Iris data')"
   ]
  },
  {
   "cell_type": "markdown",
   "metadata": {},
   "source": [
    "If you want to save a plot as a figure, you first need to define a figure object and after all your plotting commands you can use the function `savefig()`"
   ]
  },
  {
   "cell_type": "code",
   "execution_count": 36,
   "metadata": {},
   "outputs": [
    {
     "data": {
      "image/png": "[encoded data removed]",
      "text/plain": [
       "<matplotlib.figure.Figure at 0x11941a5f8>"
      ]
     },
     "metadata": {},
     "output_type": "display_data"
    }
   ],
   "source": [
    "fig = plt.figure()\n",
    "plt.scatter(petal_list,sepal_list,color='green',marker='^')\n",
    "plt.xlabel('petal length')\n",
    "plt.ylabel('sepal length')\n",
    "plt.title('Iris data')\n",
    "fig.savefig('./scatter_plot.pdf',bbox_inches='tight', dpi = 500)"
   ]
  },
  {
   "cell_type": "markdown",
   "metadata": {},
   "source": [
    "You can adjust the figure size using the `figsize=()` argument inside the `plt.figure()` function:"
   ]
  },
  {
   "cell_type": "code",
   "execution_count": 37,
   "metadata": {},
   "outputs": [
    {
     "data": {
      "image/png": "[encoded data removed]",
      "text/plain": [
       "<matplotlib.figure.Figure at 0x11924e320>"
      ]
     },
     "metadata": {},
     "output_type": "display_data"
    }
   ],
   "source": [
    "fig = plt.figure(figsize=(10,10))\n",
    "plt.scatter(petal_list,sepal_list,color='green',marker='^')\n",
    "plt.xlabel('petal length')\n",
    "plt.ylabel('sepal length')\n",
    "plt.title('Iris data')\n",
    "fig.savefig('./scatter_plot.pdf',bbox_inches='tight', dpi = 500)"
   ]
  },
  {
   "cell_type": "markdown",
   "metadata": {},
   "source": [
    "### 5. Identify clusters (supervised machine learning)"
   ]
  },
  {
   "cell_type": "markdown",
   "metadata": {},
   "source": [
    "We can see in the plots above that the data points seem to cluster into two separate clusters (maybe representing separate populations or cryptic species. We can use the kmeans algorithm to identify clusters and automatically assign the data points belonging to each cluster. For this we use the `sklearn` python library, which contains many useful machine learning algorithms.\n",
    "\n",
    "If not already installed you need to install the `sklearn` python library. For this you can just type the following in your jupyter notebook or bash command line (without the `%%bash` in commandline mode):\n",
    "\n",
    "```\n",
    "%%bash\n",
    "pip install sklearn\n",
    "```"
   ]
  },
  {
   "cell_type": "markdown",
   "metadata": {},
   "source": [
    "Before we can use the `KMeans()` function of this library we need to slightly transform our data. This function want the data in tuple format, which means every datapoint should be contained in a seaprate tuple, which looks like this `(x_value1, y_value1), (x_value2, y_value2), ...`.\n",
    "\n",
    "Currently our data is in list format, looking like this `[x_value1,x_value2,...]` and `[y_value1,y_value2,...]`. To transform these lists into the desired format we can use the `zip()` function. The zip function returns an object which we have to transform into a list again to make it visible, which we can do with the `list()` function:"
   ]
  },
  {
   "cell_type": "code",
   "execution_count": 42,
   "metadata": {},
   "outputs": [
    {
     "name": "stdout",
     "output_type": "stream",
     "text": [
      "[(2.037213545574565, 5.172704440755738), (4.915837058559057, 6.149615365303662), (1.6143144404422318, 5.939969222731516), (1.5257094629553694, 6.603431558181938), (3.7299754141452683, 6.065105089620714), (0.7787600224579809, 5.173369526730656), (5.291488606290831, 7.381162369515891), (5.486099357579179, 6.529423906221606), (1.5888847511006476, 5.447182516437644), (3.506056546470821, 5.821898711988933), (1.0347308723897142, 5.7191141594954535), (3.9184146064300767, 5.32433750535842), (4.704222691916959, 6.241320619454233), (1.2743118663460602, 5.460195145790823), (4.027879380970228, 6.018648753254772), (1.0526702377383088, 6.1491582372113704), (5.124327526301326, 5.799524450012601), (0.7278537859299755, 5.1110545058489665), (1.889159752975209, 5.09323743199745), (5.8577698329937276, 4.775423113784206), (0.9823765564976252, 4.5701405527312895), (1.642251547933402, 5.496335497225293), (1.8138118759285808, 4.62066074530137), (1.6755744474602847, 6.098174133374835), (1.4019996878544254, 4.044936687505984), (5.010073235092442, 6.460642131711677), (1.5471793166899546, 3.81078255673585), (5.583384761827779, 6.768361361219995), (5.602358230386057, 5.734823297994679), (0.999512446749096, 5.644809160886201), (6.357546048970175, 6.1096992728792765), (1.5984496681847908, 5.633241635573474), (6.383405004182108, 5.473321810175103), (3.502308512726084, 6.4668535112453975), (1.4891339583350467, 5.992310194737472), (1.4144863580569658, 4.2119740358904725), (4.695659246296348, 5.8898347763694945), (4.3146508860279305, 6.078577681601839), (4.332901307434329, 6.525604264626423), (5.355376889210996, 6.257550125001438), (4.215725527898536, 5.083585059284203), (5.547972099580166, 6.519929044689162), (4.877986170333111, 5.499600054451635), (1.9922623575693024, 5.392825131125007), (1.514988105180589, 5.229604218306541), (1.6249645875023282, 4.50732836329002), (1.6004321884727593, 5.609623442827154), (1.4375633938613075, 5.288216939487398), (1.5492498365689618, 5.496505964948804), (5.1135973948012285, 5.029043605683267)]\n"
     ]
    }
   ],
   "source": [
    "tuple_data = list(zip(petal_list, sepal_list))\n",
    "print(tuple_data)"
   ]
  },
  {
   "cell_type": "markdown",
   "metadata": {},
   "source": [
    "Now we are ready to run the KMeans() function on our transformed tuple data. We have to provide how many clusters we believe there are in the data. Let's go with `2` for now (`n_clusters=2`):"
   ]
  },
  {
   "cell_type": "code",
   "execution_count": 93,
   "metadata": {},
   "outputs": [],
   "source": [
    "from sklearn.cluster import KMeans\n",
    "\n",
    "kmeans = KMeans(n_clusters=2).fit(tuple_data)"
   ]
  },
  {
   "cell_type": "markdown",
   "metadata": {},
   "source": [
    "The output of the `KMeans()` command is stored as a variable which we named `kmeans`. From this variable we can extract the labels, which is the assignment of our data points to cluster 0 or cluster 1:"
   ]
  },
  {
   "cell_type": "code",
   "execution_count": 94,
   "metadata": {},
   "outputs": [
    {
     "data": {
      "text/plain": [
       "array([0, 1, 0, 0, 1, 0, 1, 1, 0, 1, 0, 1, 1, 0, 1, 0, 1, 0, 0, 1, 0, 0,\n",
       "       0, 0, 0, 1, 0, 1, 1, 0, 1, 0, 1, 1, 0, 0, 1, 1, 1, 1, 1, 1, 1, 0,\n",
       "       0, 0, 0, 0, 0, 1], dtype=int32)"
      ]
     },
     "execution_count": 94,
     "metadata": {},
     "output_type": "execute_result"
    }
   ],
   "source": [
    "kmeans.labels_"
   ]
  },
  {
   "cell_type": "markdown",
   "metadata": {},
   "source": [
    "We can use that label array to color the points accordingly, using the `c=` flag in the `scatter()` function. Let's save the label array as a new variable `labels` which we then parse into the `scatter()` function:"
   ]
  },
  {
   "cell_type": "code",
   "execution_count": 95,
   "metadata": {
    "scrolled": true
   },
   "outputs": [
    {
     "data": {
      "text/plain": [
       "<matplotlib.text.Text at 0x121f4ac88>"
      ]
     },
     "execution_count": 95,
     "metadata": {},
     "output_type": "execute_result"
    },
    {
     "data": {
      "image/png": "[encoded data removed]",
      "text/plain": [
       "<matplotlib.figure.Figure at 0x1220a0c50>"
      ]
     },
     "metadata": {},
     "output_type": "display_data"
    }
   ],
   "source": [
    "labels = kmeans.labels_\n",
    "\n",
    "plt.scatter(petal_list,sepal_list,c=labels,cmap='plasma')\n",
    "plt.xlabel('sepal length')\n",
    "plt.ylabel('petal length')\n",
    "plt.title('50 Iris samples')"
   ]
  },
  {
   "cell_type": "markdown",
   "metadata": {},
   "source": [
    "From the kmeans output you can also export the center points of each cluster. These are stored as the values `cluster_centers_` in the kmeans output:"
   ]
  },
  {
   "cell_type": "code",
   "execution_count": 96,
   "metadata": {},
   "outputs": [
    {
     "name": "stdout",
     "output_type": "stream",
     "text": [
      "[1.45414789 5.289111  ]\n",
      "[4.89395901 6.00016191]\n"
     ]
    }
   ],
   "source": [
    "center0,center1 = kmeans.cluster_centers_\n",
    "print(center0)\n",
    "print(center1)\n"
   ]
  },
  {
   "cell_type": "markdown",
   "metadata": {},
   "source": [
    "You can plot a point (or a list of points) using the `plot()` function. The `plot()` function needs the input data as x and y coordinates (`plot(x_coord,y_coord)`). Since our variables contain the x and y coordinates for each modpoint, we can plot each of these points by typing `plt.plot(center0[0],center0[1])` and `plt.plot(center1[0],center1[1]` respectively:"
   ]
  },
  {
   "cell_type": "code",
   "execution_count": 97,
   "metadata": {},
   "outputs": [
    {
     "data": {
      "text/plain": [
       "<matplotlib.text.Text at 0x121372d30>"
      ]
     },
     "execution_count": 97,
     "metadata": {},
     "output_type": "execute_result"
    },
    {
     "data": {
      "image/png": "[encoded data removed]",
      "text/plain": [
       "<matplotlib.figure.Figure at 0x121ebb828>"
      ]
     },
     "metadata": {},
     "output_type": "display_data"
    }
   ],
   "source": [
    "plt.scatter(petal_list,sepal_list,c=labels,cmap='plasma')\n",
    "plt.plot(center0[0],center0[1],marker='^',color='black',markersize=20)\n",
    "plt.plot(center1[0],center1[1],marker='^',color='black',markersize=20)\n",
    "\n",
    "plt.xlabel('sepal length')\n",
    "plt.ylabel('petal length')\n",
    "plt.title('50 Iris samples')"
   ]
  },
  {
   "cell_type": "markdown",
   "metadata": {},
   "source": [
    "<div class=\"alert alert-block alert-warning\">\n",
    "**Task:** Run the kmeans algorithm for 4 clusters (`n_clusters=4`), plot all four clusters including the center points, and save the plot as a pdf file.\n",
    "</div>\n"
   ]
  },
  {
   "cell_type": "markdown",
   "metadata": {},
   "source": [
    "The output should look like this:"
   ]
  },
  {
   "cell_type": "code",
   "execution_count": 99,
   "metadata": {},
   "outputs": [
    {
     "data": {
      "image/png": "[encoded data removed]",
      "text/plain": [
       "<matplotlib.figure.Figure at 0x121c68d68>"
      ]
     },
     "metadata": {},
     "output_type": "display_data"
    }
   ],
   "source": []
  }
 ],
 "metadata": {
  "kernelspec": {
   "display_name": "Python 3",
   "language": "python",
   "name": "python3"
  },
  "language_info": {
   "codemirror_mode": {
    "name": "ipython",
    "version": 3
   },
   "file_extension": ".py",
   "mimetype": "text/x-python",
   "name": "python",
   "nbconvert_exporter": "python",
   "pygments_lexer": "ipython3",
   "version": "3.6.4"
  }
 },
 "nbformat": 4,
 "nbformat_minor": 2
}
