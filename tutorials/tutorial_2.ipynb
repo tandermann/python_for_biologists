{
 "cells": [
  {
   "cell_type": "markdown",
   "metadata": {},
   "source": [
    "# Python for biologists\n",
    "\n",
    "## Tutorial A --> Change DNA alignment format\n",
    "\n",
    "*by Tobias Andermann*\n",
    "\n",
    "In this tutorial you will produce a python program which reads a DNA sequence alignment, changes the format of this alignment (into a user-provided format), and writes it to a new alignment file. You will be able to call this program from the bash command line and can thus easily up-scale it by looping over many alignment files."
   ]
  },
  {
   "cell_type": "markdown",
   "metadata": {},
   "source": [
    "### 1. Install Biopython\n",
    "\n",
    "Use the pip installer to install biopython, which is a collection of useful functions surrounding DNA sequences and other realted objects. You can do this by typing the following in your jupyter notebook or your command line (without the `%%bash` in commandline mode):\n",
    "\n",
    "```\n",
    "%%bash\n",
    "pip install biopython\n",
    "```"
   ]
  },
  {
   "cell_type": "markdown",
   "metadata": {},
   "source": [
    "### 2. Read alignment\n",
    "Read the alignment into python, using the `read()` function of Biopython:"
   ]
  },
  {
   "cell_type": "code",
   "execution_count": 29,
   "metadata": {},
   "outputs": [
    {
     "name": "stdout",
     "output_type": "stream",
     "text": [
      "IUPACAmbiguousDNA() alignment with 12 rows and 898 columns\n",
      "YYYRRRSATAGGAGCAACCATTCTAATAATCGCACATGGCCTTA...CTT Lemur_catta\n",
      "AAGCTTCACCGGCSRYSRYSRYSRYSRYSRYSRYCACGGGCTTA...CTT Homo_sapiens\n",
      "AAGCTTCACCGGCGCAATTATCCTCATAATCGCCCACGGACTTA...CTT Pan\n",
      "AAGCTTCACCGGCGCAGTTGTTCTTATAATTGCCCACGGACTTA...CTT Gorilla\n",
      "AAGCTTCACCGGCGCAACCACCCTCATGATTGCCCATGGACTCA...CTT Pongo\n",
      "AAGCYRYRRYGGTGCAACCGTCCTCATAATCGCCCACGGACTAA...CTT Hylobates\n",
      "AAGCTTTTCCGGCGCAACCATCCTTATGATCGCTCACGGACTCA...CTT Macaca_fuscata\n",
      "AAGCTTTTCTGGCGCAACCATCCTCATGATTGCTCACGGACTCA...CTT M._mulatta\n",
      "AAGCTTCTCCGGCGCAACCACCCTTATAATCGCCCACGGGCTCA...CTT M._fascicularis\n",
      "AAGCTYYYYYYYYYYAACTATCCTTATAGTTGCCCATGGACTCA...CTT M._sylvanus\n",
      "AAGCTTCACCGGCGCAATGATCCTAATAATCGCTCACGGGTTTA...CTT Saimiri_sciureus\n",
      "AAGTTTCATTGGAGCCACCACTCTTATAATTGCCCATGGCCTCA...CTT Tarsius_syrichta\n"
     ]
    }
   ],
   "source": [
    "from Bio import AlignIO\n",
    "alignment = AlignIO.read(open(\"./primates_mtDNA.nex\"), \"nexus\")\n",
    "print(alignment)"
   ]
  },
  {
   "cell_type": "markdown",
   "metadata": {},
   "source": [
    "Looking at this overview of the alignment, we can see that there are some funny characters int he alignment (IUPAC ambiguity characters `Y,R,S`). We will learn later on how to replace these characters."
   ]
  },
  {
   "cell_type": "markdown",
   "metadata": {},
   "source": [
    "### 3. Inspect the alignment\n",
    "Get the alignment length:"
   ]
  },
  {
   "cell_type": "code",
   "execution_count": 30,
   "metadata": {},
   "outputs": [
    {
     "data": {
      "text/plain": [
       "898"
      ]
     },
     "execution_count": 30,
     "metadata": {},
     "output_type": "execute_result"
    }
   ],
   "source": [
    "alignment.get_alignment_length()"
   ]
  },
  {
   "cell_type": "markdown",
   "metadata": {},
   "source": [
    "Print the first 10 characters of each sequence:"
   ]
  },
  {
   "cell_type": "code",
   "execution_count": 31,
   "metadata": {},
   "outputs": [
    {
     "name": "stdout",
     "output_type": "stream",
     "text": [
      "YYYRRRSATA Lemur_catta\n",
      "AAGCTTCACC Homo_sapiens\n",
      "AAGCTTCACC Pan\n",
      "AAGCTTCACC Gorilla\n",
      "AAGCTTCACC Pongo\n",
      "AAGCYRYRRY Hylobates\n",
      "AAGCTTTTCC Macaca_fuscata\n",
      "AAGCTTTTCT M._mulatta\n",
      "AAGCTTCTCC M._fascicularis\n",
      "AAGCTYYYYY M._sylvanus\n",
      "AAGCTTCACC Saimiri_sciureus\n",
      "AAGTTTCATT Tarsius_syrichta\n"
     ]
    }
   ],
   "source": [
    "for record in alignment:\n",
    "    print(record.seq[:10] + \" \" + record.id)"
   ]
  },
  {
   "cell_type": "markdown",
   "metadata": {},
   "source": [
    "### 4. Modify sequences\n",
    "Select one sample from the alignment:"
   ]
  },
  {
   "cell_type": "code",
   "execution_count": 32,
   "metadata": {},
   "outputs": [
    {
     "data": {
      "text/plain": [
       "SeqRecord(seq=Seq('YYYRRRSATAGGAGCAACCATTCTAATAATCGCACATGGCCTTACATCATCCAT...CTT', IUPACAmbiguousDNA()), id='Lemur_catta', name='Lemur_catta', description='', dbxrefs=[])"
      ]
     },
     "execution_count": 32,
     "metadata": {},
     "output_type": "execute_result"
    }
   ],
   "source": [
    "sample_0 = alignment[0]\n",
    "sample_0"
   ]
  },
  {
   "cell_type": "markdown",
   "metadata": {},
   "source": [
    "You can extract the name and the sequence of the sample using the `.seq` and the `.name` function respectively."
   ]
  },
  {
   "cell_type": "code",
   "execution_count": 33,
   "metadata": {},
   "outputs": [
    {
     "name": "stdout",
     "output_type": "stream",
     "text": [
      "YYYRRRSATAGGAGCAACCATTCTAATAATCGCACATGGCCTTACATCATCCATATTATTCTGTCTAGCCAACTCTAACTACGAACGAATCCATAGCCGTACAATACTACTAGCACGAGGGATCCAAACCATTCTCCCTCTTATAGCCACCTGATGACTACTCGCCAGCCTAACTAACCTAGCCCTACCCACCTCTATCAATTTAATTGGCGAACTATTCGTCACTATAGCATCCTTCTCATGATCAAACATTACAATTATCTTAATAGGCTTAAATATGCTCATCACCGCTCTCTATTCCCTCTATATATTAACTACTACACAACGAGGAAAACTCACATATCATTCGCACAACCTAAACCCATCCTTTACACGAGAAAACACCCTTATATCCATACACATACTCCCCCTTCTCCTATTTACCTTAAACCCCAAAATTATTCTAGGACCCACGTACTGTAAATATAGTTTAAA-AAAACACTAGATTGTGAATCCAGAAATAGAAGCTCAAAC-CTTCTTATTTACCGAGAAAGTAATGTATGAACTGCTAACTCTGCACTCCGTATATAAAAATACGGCTATCTCAACTTTTAAAGGATAGAAGTAATCCATTGGCCTTAGGAGCCAAAAA-ATTGGTGCAACTCCAAATAAAAGTAATAAATCTATTATCCTCTTTCACCCTTGTCACACTGATTATCCTAACTTTACCTATCATTATAAACGTTACAAACATATACAAAAACTACCCCTATGCACCATACGTAAAATCTTCTATTGCATGTGCCTTCATCACTAGCCTCATCCCAACTATATTATTTATCTCCTCAGGACAAGAAACAATCATTTCCAACTGACATTGAATAACAATCCAAACCCTAAAACTATCTATTAGCTT\n"
     ]
    }
   ],
   "source": [
    "sequence_0 = sample_0.seq\n",
    "name_0 = sample_0.name\n",
    "print(sequence_0)"
   ]
  },
  {
   "cell_type": "markdown",
   "metadata": {},
   "source": [
    "Now replace all invalid characters (not A,C,T,G,a,c,t,g,-) with `N` using the `re.sub()` function that you learned in the intro tutorial.\n",
    "This function can only be applied to string objects, but our sequence is in the biopython specific format called `Bio.Seq.Seq`. You can check the format of any variable with the `type()` function."
   ]
  },
  {
   "cell_type": "code",
   "execution_count": 34,
   "metadata": {},
   "outputs": [
    {
     "data": {
      "text/plain": [
       "Bio.Seq.Seq"
      ]
     },
     "execution_count": 34,
     "metadata": {},
     "output_type": "execute_result"
    }
   ],
   "source": [
    "type(sequence_0)"
   ]
  },
  {
   "cell_type": "markdown",
   "metadata": {},
   "source": [
    "If you want to convert the sequence into string format, you can use the `str()` function:"
   ]
  },
  {
   "cell_type": "code",
   "execution_count": 35,
   "metadata": {},
   "outputs": [],
   "source": [
    "sequence_string = str(sequence_0)"
   ]
  },
  {
   "cell_type": "markdown",
   "metadata": {},
   "source": [
    "\n",
    "\n",
    "<div class=\"alert alert-block alert-warning\">\n",
    "**Task:** Replace all characters in the sequence (`sequence_string`) that are **not** A,C,T,G,a,c,t,g,- with `N` and save it under the new variable `new_sequence_string`. The string should look as the one shown below:\n",
    "</div>\n",
    "\n",
    "\n",
    "\n",
    "<div class=\"alert alert-block alert-success\">\n",
    "**Tip:** Use the `re.sub()` function we learned in the intro-tutorial. Remember how you can use the `^` character to say: Replace everything except XXXXX . The command should look as follows, where you replace `XXXXX` with the characters you **do not want to be replaced** and `Y` is the character you want to replace all remaining characters with.\n",
    "\n",
    "`re.sub('[^XXXXX]','Y',string)`\n",
    "</div>"
   ]
  },
  {
   "cell_type": "code",
   "execution_count": 36,
   "metadata": {},
   "outputs": [
    {
     "name": "stdout",
     "output_type": "stream",
     "text": [
      "NNNNNNNATAGGAGCAACCATTCTAATAATCGCACATGGCCTTACATCATCCATATTATTCTGTCTAGCCAACTCTAACTACGAACGAATCCATAGCCGTACAATACTACTAGCACGAGGGATCCAAACCATTCTCCCTCTTATAGCCACCTGATGACTACTCGCCAGCCTAACTAACCTAGCCCTACCCACCTCTATCAATTTAATTGGCGAACTATTCGTCACTATAGCATCCTTCTCATGATCAAACATTACAATTATCTTAATAGGCTTAAATATGCTCATCACCGCTCTCTATTCCCTCTATATATTAACTACTACACAACGAGGAAAACTCACATATCATTCGCACAACCTAAACCCATCCTTTACACGAGAAAACACCCTTATATCCATACACATACTCCCCCTTCTCCTATTTACCTTAAACCCCAAAATTATTCTAGGACCCACGTACTGTAAATATAGTTTAAA-AAAACACTAGATTGTGAATCCAGAAATAGAAGCTCAAAC-CTTCTTATTTACCGAGAAAGTAATGTATGAACTGCTAACTCTGCACTCCGTATATAAAAATACGGCTATCTCAACTTTTAAAGGATAGAAGTAATCCATTGGCCTTAGGAGCCAAAAA-ATTGGTGCAACTCCAAATAAAAGTAATAAATCTATTATCCTCTTTCACCCTTGTCACACTGATTATCCTAACTTTACCTATCATTATAAACGTTACAAACATATACAAAAACTACCCCTATGCACCATACGTAAAATCTTCTATTGCATGTGCCTTCATCACTAGCCTCATCCCAACTATATTATTTATCTCCTCAGGACAAGAAACAATCATTTCCAACTGACATTGAATAACAATCCAAACCCTAAAACTATCTATTAGCTT\n"
     ]
    }
   ],
   "source": [
    "print(new_sequence_string)"
   ]
  },
  {
   "cell_type": "markdown",
   "metadata": {},
   "source": [
    "Now we can replace the sequence in the alingment with the updated string. However, we first need to convert the string back into the Biopython sequence format. For this we use the `Seq()` function:"
   ]
  },
  {
   "cell_type": "code",
   "execution_count": 37,
   "metadata": {},
   "outputs": [],
   "source": [
    "from Bio.Seq import Seq\n",
    "new_sequence = Seq(new_sequence_string)\n",
    "sample_0.seq = new_sequence"
   ]
  },
  {
   "cell_type": "markdown",
   "metadata": {},
   "source": [
    "Now let's print the alignment again and see if the sequence was changed (the first sequence should now contain N's instead of invalid characters)."
   ]
  },
  {
   "cell_type": "code",
   "execution_count": 38,
   "metadata": {},
   "outputs": [
    {
     "name": "stdout",
     "output_type": "stream",
     "text": [
      "IUPACAmbiguousDNA() alignment with 12 rows and 898 columns\n",
      "NNNNNNNATAGGAGCAACCATTCTAATAATCGCACATGGCCTTA...CTT Lemur_catta\n",
      "AAGCTTCACCGGCSRYSRYSRYSRYSRYSRYSRYCACGGGCTTA...CTT Homo_sapiens\n",
      "AAGCTTCACCGGCGCAATTATCCTCATAATCGCCCACGGACTTA...CTT Pan\n",
      "AAGCTTCACCGGCGCAGTTGTTCTTATAATTGCCCACGGACTTA...CTT Gorilla\n",
      "AAGCTTCACCGGCGCAACCACCCTCATGATTGCCCATGGACTCA...CTT Pongo\n",
      "AAGCYRYRRYGGTGCAACCGTCCTCATAATCGCCCACGGACTAA...CTT Hylobates\n",
      "AAGCTTTTCCGGCGCAACCATCCTTATGATCGCTCACGGACTCA...CTT Macaca_fuscata\n",
      "AAGCTTTTCTGGCGCAACCATCCTCATGATTGCTCACGGACTCA...CTT M._mulatta\n",
      "AAGCTTCTCCGGCGCAACCACCCTTATAATCGCCCACGGGCTCA...CTT M._fascicularis\n",
      "AAGCTYYYYYYYYYYAACTATCCTTATAGTTGCCCATGGACTCA...CTT M._sylvanus\n",
      "AAGCTTCACCGGCGCAATGATCCTAATAATCGCTCACGGGTTTA...CTT Saimiri_sciureus\n",
      "AAGTTTCATTGGAGCCACCACTCTTATAATTGCCCATGGCCTCA...CTT Tarsius_syrichta\n"
     ]
    }
   ],
   "source": [
    "print(alignment)"
   ]
  },
  {
   "cell_type": "markdown",
   "metadata": {},
   "source": [
    "### 5. Write a python function"
   ]
  },
  {
   "cell_type": "markdown",
   "metadata": {},
   "source": [
    "The steps in the section above are a little lengthy and would be annoying to do separately for every single sequence in the alignment. In order to make our life easier, let's write a function that repeats these steps for every sequence in the alignment and returns the edited alignment. The basic syntax for writing a function in python is this:"
   ]
  },
  {
   "cell_type": "code",
   "execution_count": 39,
   "metadata": {},
   "outputs": [],
   "source": [
    "def my_function(input_variable1, input_variable2):\n",
    "    # do something here\n",
    "    return output_variable"
   ]
  },
  {
   "cell_type": "markdown",
   "metadata": {},
   "source": [
    "The function get's some variables as input, then computes something from them and then puts out variables. The output of a function is defined by the return statement. The names of the variables are only relevant within the function, but are not exported into the python environment.\n",
    "\n",
    "For example if we want to write a function that calculates the sum between 2 numbers, it would look like this:"
   ]
  },
  {
   "cell_type": "code",
   "execution_count": 40,
   "metadata": {},
   "outputs": [],
   "source": [
    "def sum_2_numbers(number1, number2):\n",
    "    sum_numbers = number1 + number2\n",
    "    return sum_numbers"
   ]
  },
  {
   "cell_type": "markdown",
   "metadata": {},
   "source": [
    "You can call a function by it's name, e.g.:"
   ]
  },
  {
   "cell_type": "code",
   "execution_count": 41,
   "metadata": {},
   "outputs": [
    {
     "data": {
      "text/plain": [
       "12"
      ]
     },
     "execution_count": 41,
     "metadata": {},
     "output_type": "execute_result"
    }
   ],
   "source": [
    "sum_2_numbers(9,3)"
   ]
  },
  {
   "cell_type": "markdown",
   "metadata": {},
   "source": [
    "You can also parse variables as input into the function, e.g.:"
   ]
  },
  {
   "cell_type": "code",
   "execution_count": 42,
   "metadata": {
    "scrolled": false
   },
   "outputs": [
    {
     "data": {
      "text/plain": [
       "17"
      ]
     },
     "execution_count": 42,
     "metadata": {},
     "output_type": "execute_result"
    }
   ],
   "source": [
    "first_number = 4\n",
    "second_number = 13\n",
    "sum_2_numbers(first_number,second_number)"
   ]
  },
  {
   "cell_type": "markdown",
   "metadata": {},
   "source": [
    "Now let's slightly modify the function, so that it returns both, the sum and the product of two numbers. Note that we have to list all variables we want to export after the `return` statement:"
   ]
  },
  {
   "cell_type": "code",
   "execution_count": 43,
   "metadata": {},
   "outputs": [],
   "source": [
    "def sum_and_multiply_2_numbers(number1, number2):\n",
    "    sum_numbers = number1 + number2\n",
    "    product = number1 * number2\n",
    "    return sum_numbers, product"
   ]
  },
  {
   "cell_type": "markdown",
   "metadata": {},
   "source": [
    "Now let's run our new function:"
   ]
  },
  {
   "cell_type": "code",
   "execution_count": 44,
   "metadata": {},
   "outputs": [
    {
     "data": {
      "text/plain": [
       "(14, 45)"
      ]
     },
     "execution_count": 44,
     "metadata": {},
     "output_type": "execute_result"
    }
   ],
   "source": [
    "sum_and_multiply_2_numbers(5,9)"
   ]
  },
  {
   "cell_type": "markdown",
   "metadata": {},
   "source": [
    "Usually you want to store the output as variables. For this you need to parse the funciton output to newly defined variables. In this case, since we have two output variables we also need to define two new variables to store them as, e.g.:"
   ]
  },
  {
   "cell_type": "code",
   "execution_count": 45,
   "metadata": {},
   "outputs": [
    {
     "name": "stdout",
     "output_type": "stream",
     "text": [
      "14\n",
      "45\n"
     ]
    }
   ],
   "source": [
    "output1, output2 = sum_and_multiply_2_numbers(5,9)\n",
    "print(output1)\n",
    "print(output2)"
   ]
  },
  {
   "cell_type": "markdown",
   "metadata": {},
   "source": [
    "You can name the function and the input variables however you want, for example let's name the function `bla` and the input variables `X` and `Y` and define it to calculate the product of 2 numbers:"
   ]
  },
  {
   "cell_type": "code",
   "execution_count": 46,
   "metadata": {},
   "outputs": [],
   "source": [
    "def bla(X, Y):\n",
    "    product = X * Y\n",
    "    return product"
   ]
  },
  {
   "cell_type": "markdown",
   "metadata": {},
   "source": [
    "However, it makes sense to give your function sensible names, so you remember what exactly they do."
   ]
  },
  {
   "cell_type": "code",
   "execution_count": 47,
   "metadata": {},
   "outputs": [
    {
     "data": {
      "text/plain": [
       "27"
      ]
     },
     "execution_count": 47,
     "metadata": {},
     "output_type": "execute_result"
    }
   ],
   "source": [
    "bla(9,3)"
   ]
  },
  {
   "cell_type": "markdown",
   "metadata": {},
   "source": [
    "You can define a function to basically do anything. Here we will define a function that incorporates the steps we did in section 4 of this tutorial. Instead of only doing these steps on a single sequence, we repeat the steps in a for-loop, iterating through all sequences, and thereby changing the whole alignment."
   ]
  },
  {
   "cell_type": "markdown",
   "metadata": {},
   "source": [
    "<div class=\"alert alert-block alert-warning\">\n",
    "**Task:** Fill in the 4 steps in the function below. You can scroll up to section 4 of the tutorial to see how each of these steps is done. Note that we don't need to define an output of our function. When changing the value of `record.seq`, it automatically get's updated in the python alignment object.\n",
    "</div>\n"
   ]
  },
  {
   "cell_type": "code",
   "execution_count": null,
   "metadata": {},
   "outputs": [],
   "source": [
    "def replace_bad_chars(alignment):\n",
    "    for record in alignment:\n",
    "        #1. convert sequence into string\n",
    "        #2. use re.sub() function to replace invalid characters\n",
    "        #3. convert the modified string back into sequence format, using the Seq() function\n",
    "        #4. replace the sequence in the alignment (record.seq) with the modified sequence        "
   ]
  },
  {
   "cell_type": "markdown",
   "metadata": {},
   "source": [
    "Now apply the function to the alignment and print the alignment to see if the function worked (all `Y`, `R` and `S` should now be coded as `N`):"
   ]
  },
  {
   "cell_type": "code",
   "execution_count": 54,
   "metadata": {},
   "outputs": [
    {
     "name": "stdout",
     "output_type": "stream",
     "text": [
      "IUPACAmbiguousDNA() alignment with 12 rows and 898 columns\n",
      "NNNNNNNATAGGAGCAACCATTCTAATAATCGCACATGGCCTTA...CTT Lemur_catta\n",
      "AAGCTTCACCGGCNNNNNNNNNNNNNNNNNNNNNCACGGGCTTA...CTT Homo_sapiens\n",
      "AAGCTTCACCGGCGCAATTATCCTCATAATCGCCCACGGACTTA...CTT Pan\n",
      "AAGCTTCACCGGCGCAGTTGTTCTTATAATTGCCCACGGACTTA...CTT Gorilla\n",
      "AAGCTTCACCGGCGCAACCACCCTCATGATTGCCCATGGACTCA...CTT Pongo\n",
      "AAGCNNNNNNGGTGCAACCGTCCTCATAATCGCCCACGGACTAA...CTT Hylobates\n",
      "AAGCTTTTCCGGCGCAACCATCCTTATGATCGCTCACGGACTCA...CTT Macaca_fuscata\n",
      "AAGCTTTTCTGGCGCAACCATCCTCATGATTGCTCACGGACTCA...CTT M._mulatta\n",
      "AAGCTTCTCCGGCGCAACCACCCTTATAATCGCCCACGGGCTCA...CTT M._fascicularis\n",
      "AAGCTNNNNNNNNNNAACTATCCTTATAGTTGCCCATGGACTCA...CTT M._sylvanus\n",
      "AAGCTTCACCGGCGCAATGATCCTAATAATCGCTCACGGGTTTA...CTT Saimiri_sciureus\n",
      "AAGTTTCATTGGAGCCACCACTCTTATAATTGCCCATGGCCTCA...CTT Tarsius_syrichta\n"
     ]
    }
   ],
   "source": [
    "replace_bad_chars(alignment)\n",
    "print(alignment)"
   ]
  },
  {
   "cell_type": "markdown",
   "metadata": {},
   "source": [
    "### 6. Change alignment format\n"
   ]
  },
  {
   "cell_type": "markdown",
   "metadata": {},
   "source": [
    "Now you can output the alignment in any format you like using the `SeqIO.write()` function. Let's for example choose to export it in FASTA format:"
   ]
  },
  {
   "cell_type": "code",
   "execution_count": 55,
   "metadata": {},
   "outputs": [
    {
     "data": {
      "text/plain": [
       "12"
      ]
     },
     "execution_count": 55,
     "metadata": {},
     "output_type": "execute_result"
    }
   ],
   "source": [
    "from Bio import SeqIO\n",
    "SeqIO.write(alignment, './my_new_alignment.fasta', 'fasta')"
   ]
  },
  {
   "cell_type": "markdown",
   "metadata": {},
   "source": [
    "### 7. Write a python program\n",
    "Now where we have the `replace_bad_chars()` function and know how to chnage the format of an alignment, we can rather easily wrap these steps inside a little python program, which you can call from the command line.\n",
    "\n",
    "<div class=\"alert alert-block alert-warning\">\n",
    "**Task:** Find the file `alignment_formatter.py` and insert the `replace_bad_chars()` into the script. You also need to fill in a couple of other pieces of code in order to make the program work.\n",
    "</div>\n",
    "\n",
    "Once this is done you can call the script from your bash terminal as follows. First explore the help function:"
   ]
  },
  {
   "cell_type": "code",
   "execution_count": 56,
   "metadata": {},
   "outputs": [
    {
     "name": "stdout",
     "output_type": "stream",
     "text": [
      "usage: alignment_formatter.py [-h] --input INPUT --input_format\n",
      "                              {fasta,nexus,stockholm,phylip,clustal,emboss,phylip-sequential,phylip-relaxed,fasta-m10,ig,maf}\n",
      "                              --output OUTPUT --output_format\n",
      "                              {fasta,nexus,stockholm,phylip,clustal,phylip-sequential,phylip-relaxed,maf}\n",
      "                              [--fix_invalid_characters]\n",
      "\n",
      "optional arguments:\n",
      "  -h, --help            show this help message and exit\n",
      "  --input INPUT         Path to your input alignment file.\n",
      "  --input_format {fasta,nexus,stockholm,phylip,clustal,emboss,phylip-sequential,phylip-relaxed,fasta-m10,ig,maf}\n",
      "                        Alignment format of input file.\n",
      "  --output OUTPUT       Name of output alignment.\n",
      "  --output_format {fasta,nexus,stockholm,phylip,clustal,phylip-sequential,phylip-relaxed,maf}\n",
      "                        Desired alignment format of output file.\n",
      "  --fix_invalid_characters\n",
      "                        Replace all invalid bases (not A,C,T,G,a,c,t,g,-) with\n",
      "                        \"N\"\n"
     ]
    }
   ],
   "source": [
    "%%bash\n",
    "python alignment_formatter.py -h"
   ]
  },
  {
   "cell_type": "markdown",
   "metadata": {},
   "source": [
    "This help function output shows you all the available flags you can use with the command. The last flag `--fix_invalid_characters` is optional, which means it does not have to be provided for the program to run (if you don't provide it, the program will not replace characters in the alignment).\n",
    "\n",
    "Now let's transform the alignment `primates_mtDNA.nex` into fasta format and replace all invalid characters with N's:"
   ]
  },
  {
   "cell_type": "code",
   "execution_count": 57,
   "metadata": {},
   "outputs": [
    {
     "name": "stdout",
     "output_type": "stream",
     "text": [
      "\n",
      "\n",
      "New alignment written to file formatted_alignment.fasta\n",
      "\n",
      "\n"
     ]
    }
   ],
   "source": [
    "%%bash\n",
    "python alignment_formatter.py --input ./primates_mtDNA.nex --input_format nexus --output formatted_alignment.fasta --output_format fasta --fix_invalid_characters"
   ]
  }
 ],
 "metadata": {
  "kernelspec": {
   "display_name": "Python 3",
   "language": "python",
   "name": "python3"
  },
  "language_info": {
   "codemirror_mode": {
    "name": "ipython",
    "version": 3
   },
   "file_extension": ".py",
   "mimetype": "text/x-python",
   "name": "python",
   "nbconvert_exporter": "python",
   "pygments_lexer": "ipython3",
   "version": "3.6.4"
  }
 },
 "nbformat": 4,
 "nbformat_minor": 2
}
