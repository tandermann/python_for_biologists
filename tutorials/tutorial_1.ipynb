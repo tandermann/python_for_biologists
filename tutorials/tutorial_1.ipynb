{
 "cells": [
  {
   "cell_type": "markdown",
   "metadata": {},
   "source": [
    "# Python for biologists\n",
    "\n",
    "## Tutorial Intro --> Basic Python syntax and objects\n",
    "\n",
    "*by Tobias Andermann*\n",
    "________________________"
   ]
  },
  {
   "cell_type": "markdown",
   "metadata": {},
   "source": [
    "### Strings\n",
    "Define a string:"
   ]
  },
  {
   "cell_type": "code",
   "execution_count": 46,
   "metadata": {},
   "outputs": [],
   "source": [
    "my_string = 'I FREAKING LOVE PROGRAMMING'"
   ]
  },
  {
   "cell_type": "markdown",
   "metadata": {},
   "source": [
    "You can use the `print()` function to print any object to the screen, e.g.:"
   ]
  },
  {
   "cell_type": "code",
   "execution_count": 47,
   "metadata": {},
   "outputs": [
    {
     "name": "stdout",
     "output_type": "stream",
     "text": [
      "I FREAKING LOVE PROGRAMMING\n"
     ]
    }
   ],
   "source": [
    "print(my_string)"
   ]
  },
  {
   "cell_type": "markdown",
   "metadata": {},
   "source": [
    "Create a string consisting of N repititions of a character, e.g. 50 repitions of the string we defined above:"
   ]
  },
  {
   "cell_type": "code",
   "execution_count": 51,
   "metadata": {},
   "outputs": [
    {
     "data": {
      "text/plain": [
       "'I FREAKING LOVE PROGRAMMINGI FREAKING LOVE PROGRAMMINGI FREAKING LOVE PROGRAMMINGI FREAKING LOVE PROGRAMMINGI FREAKING LOVE PROGRAMMINGI FREAKING LOVE PROGRAMMINGI FREAKING LOVE PROGRAMMINGI FREAKING LOVE PROGRAMMINGI FREAKING LOVE PROGRAMMINGI FREAKING LOVE PROGRAMMINGI FREAKING LOVE PROGRAMMINGI FREAKING LOVE PROGRAMMINGI FREAKING LOVE PROGRAMMINGI FREAKING LOVE PROGRAMMINGI FREAKING LOVE PROGRAMMINGI FREAKING LOVE PROGRAMMINGI FREAKING LOVE PROGRAMMINGI FREAKING LOVE PROGRAMMINGI FREAKING LOVE PROGRAMMINGI FREAKING LOVE PROGRAMMINGI FREAKING LOVE PROGRAMMINGI FREAKING LOVE PROGRAMMINGI FREAKING LOVE PROGRAMMINGI FREAKING LOVE PROGRAMMINGI FREAKING LOVE PROGRAMMINGI FREAKING LOVE PROGRAMMINGI FREAKING LOVE PROGRAMMINGI FREAKING LOVE PROGRAMMINGI FREAKING LOVE PROGRAMMINGI FREAKING LOVE PROGRAMMINGI FREAKING LOVE PROGRAMMINGI FREAKING LOVE PROGRAMMINGI FREAKING LOVE PROGRAMMINGI FREAKING LOVE PROGRAMMINGI FREAKING LOVE PROGRAMMINGI FREAKING LOVE PROGRAMMINGI FREAKING LOVE PROGRAMMINGI FREAKING LOVE PROGRAMMINGI FREAKING LOVE PROGRAMMINGI FREAKING LOVE PROGRAMMINGI FREAKING LOVE PROGRAMMINGI FREAKING LOVE PROGRAMMINGI FREAKING LOVE PROGRAMMINGI FREAKING LOVE PROGRAMMINGI FREAKING LOVE PROGRAMMINGI FREAKING LOVE PROGRAMMINGI FREAKING LOVE PROGRAMMINGI FREAKING LOVE PROGRAMMINGI FREAKING LOVE PROGRAMMINGI FREAKING LOVE PROGRAMMING'"
      ]
     },
     "execution_count": 51,
     "metadata": {},
     "output_type": "execute_result"
    }
   ],
   "source": [
    "my_string*50"
   ]
  },
  {
   "cell_type": "markdown",
   "metadata": {},
   "source": [
    "Define a string containing a variable:"
   ]
  },
  {
   "cell_type": "code",
   "execution_count": 52,
   "metadata": {},
   "outputs": [
    {
     "name": "stdout",
     "output_type": "stream",
     "text": [
      "I used to say: I FREAKING LOVE PROGRAMMING\n"
     ]
    }
   ],
   "source": [
    "string_with_variable = 'I used to say: %s' %my_string\n",
    "print(string_with_variable)"
   ]
  },
  {
   "cell_type": "markdown",
   "metadata": {},
   "source": [
    "In the command above we used `%s` as a spaceholder for a **s**tring that we define after the quotation marks. If we want to insert an **i**nteger instead, the spaceholder would be `%i`, while for a **f**loat it woudl be `%f`. If you are inserting multiple variables into a string, you need to list these in parantheses after the quotation marks. See the following example:"
   ]
  },
  {
   "cell_type": "code",
   "execution_count": 53,
   "metadata": {},
   "outputs": [
    {
     "name": "stdout",
     "output_type": "stream",
     "text": [
      "My name is Olaf, I'm 30 years old and I can run 1000m in 3.800000 minutes.\n"
     ]
    }
   ],
   "source": [
    "name = 'Olaf'\n",
    "age = 30\n",
    "time = 3.8\n",
    "statement = \"My name is %s, I'm %i years old and I can run 1000m in %f minutes.\" %(name,age,time)\n",
    "print(statement)"
   ]
  },
  {
   "cell_type": "markdown",
   "metadata": {},
   "source": [
    "You see that the float is by default expressed with 6 decimal points accuracy. In the example above that is not necessarily how we want to express it, but instead we would prefer only one decimal point. You can format a float within a string using the notation `%.Nf`, where N is the number of decimal points, which would be `1` in our case:"
   ]
  },
  {
   "cell_type": "code",
   "execution_count": 54,
   "metadata": {},
   "outputs": [
    {
     "name": "stdout",
     "output_type": "stream",
     "text": [
      "My name is Olaf, I'm 30 years old and I can run 1000m in 3.8 minutes.\n"
     ]
    }
   ],
   "source": [
    "statement = \"My name is %s, I'm %i years old and I can run 1000m in %.1f minutes.\" %(name,age,time)\n",
    "print(statement)"
   ]
  },
  {
   "cell_type": "markdown",
   "metadata": {},
   "source": [
    "Select part of a string, e.g. the 9th-15th letter. Python starts counting with 0 and the last element in the brackets is the upper boundary but is not within the selection (standard for all programming languages, except R)."
   ]
  },
  {
   "cell_type": "code",
   "execution_count": 55,
   "metadata": {},
   "outputs": [
    {
     "data": {
      "text/plain": [
       "'is Olaf'"
      ]
     },
     "execution_count": 55,
     "metadata": {},
     "output_type": "execute_result"
    }
   ],
   "source": [
    "statement[8:15]"
   ]
  },
  {
   "cell_type": "markdown",
   "metadata": {},
   "source": [
    "Select everything starting from the 6th character:"
   ]
  },
  {
   "cell_type": "code",
   "execution_count": 56,
   "metadata": {},
   "outputs": [
    {
     "data": {
      "text/plain": [
       "\"me is Olaf, I'm 30 years old and I can run 1000m in 3.8 minutes.\""
      ]
     },
     "execution_count": 56,
     "metadata": {},
     "output_type": "execute_result"
    }
   ],
   "source": [
    "statement[5:]"
   ]
  },
  {
   "cell_type": "markdown",
   "metadata": {},
   "source": [
    "Print only the last chracter of the string:"
   ]
  },
  {
   "cell_type": "code",
   "execution_count": 57,
   "metadata": {},
   "outputs": [
    {
     "data": {
      "text/plain": [
       "'.'"
      ]
     },
     "execution_count": 57,
     "metadata": {},
     "output_type": "execute_result"
    }
   ],
   "source": [
    "statement[-1]"
   ]
  },
  {
   "cell_type": "markdown",
   "metadata": {},
   "source": [
    "Print the last 8 characters of the string"
   ]
  },
  {
   "cell_type": "code",
   "execution_count": 58,
   "metadata": {},
   "outputs": [
    {
     "data": {
      "text/plain": [
       "'minutes.'"
      ]
     },
     "execution_count": 58,
     "metadata": {},
     "output_type": "execute_result"
    }
   ],
   "source": [
    "statement[-8:]"
   ]
  },
  {
   "cell_type": "markdown",
   "metadata": {},
   "source": [
    "The `.replace()` function is native to python and does not need any special package import. It can be applied to any string object in order to replace one character with another. If you want to replace all `T`s in a string (`my_string`) with `X`s, you can use this command like this:"
   ]
  },
  {
   "cell_type": "code",
   "execution_count": 59,
   "metadata": {},
   "outputs": [
    {
     "data": {
      "text/plain": [
       "\"My namX is Olaf, I'm 30 yXars old and I can run 1000m in 3.8 minutXs.\""
      ]
     },
     "execution_count": 59,
     "metadata": {},
     "output_type": "execute_result"
    }
   ],
   "source": [
    "statement.replace('e','X')"
   ]
  },
  {
   "cell_type": "markdown",
   "metadata": {},
   "source": [
    "The `replace()` function only takes a single character to be replaced. If you want to replace multiple characters at the same time or introduce regular expressions (e.g. replace all numbers in a string) you can use the `sub()` function of the `re` package (`import re`). We can use it e.g. to replace everything that's not a vowel or a space. The `^` at the beginning of the expression in parantheses tells the function to **replace everything except** the following characters:"
   ]
  },
  {
   "cell_type": "code",
   "execution_count": 60,
   "metadata": {},
   "outputs": [
    {
     "data": {
      "text/plain": [
       "'Ny NaNe iN ONaNN INN NN yeaNN oNN aNN I NaN NuN NNNNN iN NNN NiNuNeNN'"
      ]
     },
     "execution_count": 60,
     "metadata": {},
     "output_type": "execute_result"
    }
   ],
   "source": [
    "import re\n",
    "re.sub('[^AEIOUYaeiouy ]','N',statement)"
   ]
  },
  {
   "cell_type": "markdown",
   "metadata": {},
   "source": [
    "________________\n",
    "\n",
    "### Lists\n",
    "Define a list:"
   ]
  },
  {
   "cell_type": "code",
   "execution_count": 61,
   "metadata": {},
   "outputs": [],
   "source": [
    "my_list = ['this','is','a','list']"
   ]
  },
  {
   "cell_type": "markdown",
   "metadata": {},
   "source": [
    "Use the `print()` function to print your list to the screen:"
   ]
  },
  {
   "cell_type": "code",
   "execution_count": 62,
   "metadata": {},
   "outputs": [
    {
     "name": "stdout",
     "output_type": "stream",
     "text": [
      "['this', 'is', 'a', 'list']\n"
     ]
    }
   ],
   "source": [
    "print(my_list)"
   ]
  },
  {
   "cell_type": "markdown",
   "metadata": {},
   "source": [
    "Select a list element, e.g. the second element (same indexing logic as described in the string-section above):"
   ]
  },
  {
   "cell_type": "code",
   "execution_count": 63,
   "metadata": {},
   "outputs": [
    {
     "data": {
      "text/plain": [
       "'is'"
      ]
     },
     "execution_count": 63,
     "metadata": {},
     "output_type": "execute_result"
    }
   ],
   "source": [
    "my_list[1]"
   ]
  },
  {
   "cell_type": "markdown",
   "metadata": {},
   "source": [
    "Turn a string into a list by splitting it at a given character, e.g. at each whitespace (let's use the stirng we defined at the beginning of the tutorial called `my_string`):"
   ]
  },
  {
   "cell_type": "code",
   "execution_count": 65,
   "metadata": {},
   "outputs": [
    {
     "data": {
      "text/plain": [
       "['I', 'FREAKING', 'LOVE', 'PROGRAMMING']"
      ]
     },
     "execution_count": 65,
     "metadata": {},
     "output_type": "execute_result"
    }
   ],
   "source": [
    "new_list = my_string.split(' ')\n",
    "new_list"
   ]
  },
  {
   "cell_type": "markdown",
   "metadata": {},
   "source": [
    "Replace the last list element:"
   ]
  },
  {
   "cell_type": "code",
   "execution_count": 66,
   "metadata": {},
   "outputs": [
    {
     "data": {
      "text/plain": [
       "['I', 'FREAKING', 'LOVE', 'PYTHON']"
      ]
     },
     "execution_count": 66,
     "metadata": {},
     "output_type": "execute_result"
    }
   ],
   "source": [
    "new_list[-1] = 'PYTHON'\n",
    "new_list"
   ]
  },
  {
   "cell_type": "markdown",
   "metadata": {},
   "source": [
    "Add element to a list"
   ]
  },
  {
   "cell_type": "code",
   "execution_count": 67,
   "metadata": {},
   "outputs": [
    {
     "data": {
      "text/plain": [
       "['I', 'FREAKING', 'LOVE', 'PYTHON', 'BECAUSE']"
      ]
     },
     "execution_count": 67,
     "metadata": {},
     "output_type": "execute_result"
    }
   ],
   "source": [
    "new_list.append('BECAUSE')\n",
    "new_list"
   ]
  },
  {
   "cell_type": "markdown",
   "metadata": {},
   "source": [
    "Concatenate two lists"
   ]
  },
  {
   "cell_type": "code",
   "execution_count": 68,
   "metadata": {},
   "outputs": [
    {
     "data": {
      "text/plain": [
       "['I',\n",
       " 'FREAKING',\n",
       " 'LOVE',\n",
       " 'PYTHON',\n",
       " 'BECAUSE',\n",
       " 'IT',\n",
       " 'IS',\n",
       " 'BETTER',\n",
       " 'THAN',\n",
       " 'R']"
      ]
     },
     "execution_count": 68,
     "metadata": {},
     "output_type": "execute_result"
    }
   ],
   "source": [
    "another_list = ['IT','IS','BETTER','THAN','R']\n",
    "concatenated_list = new_list + another_list\n",
    "concatenated_list"
   ]
  },
  {
   "cell_type": "markdown",
   "metadata": {},
   "source": [
    "Turn a list into a string:"
   ]
  },
  {
   "cell_type": "code",
   "execution_count": 69,
   "metadata": {},
   "outputs": [
    {
     "data": {
      "text/plain": [
       "'I FREAKING LOVE PYTHON BECAUSE IT IS BETTER THAN R'"
      ]
     },
     "execution_count": 69,
     "metadata": {},
     "output_type": "execute_result"
    }
   ],
   "source": [
    "new_string = ' '.join(concatenated_list)\n",
    "new_string"
   ]
  },
  {
   "cell_type": "markdown",
   "metadata": {},
   "source": [
    "______________\n",
    "\n",
    "### Arrays\n",
    "Arrays are similar to lists but are much handier when working with numbers (floats or integers). The numpy package offers many useful functions for arrays.\n",
    "\n",
    "If numpy is not already installed, you can simply run the following command in your jupyter notebook or bash command line (without the `%%bash` in commandline mode):\n",
    "\n",
    "```\n",
    "%%bash\n",
    "pip install numpy\n",
    "```"
   ]
  },
  {
   "cell_type": "markdown",
   "metadata": {},
   "source": [
    "Generate a random float between 0 and 1:"
   ]
  },
  {
   "cell_type": "code",
   "execution_count": 73,
   "metadata": {},
   "outputs": [
    {
     "data": {
      "text/plain": [
       "0.38374018374073227"
      ]
     },
     "execution_count": 73,
     "metadata": {},
     "output_type": "execute_result"
    }
   ],
   "source": [
    "import numpy as np\n",
    "np.random.random()"
   ]
  },
  {
   "cell_type": "markdown",
   "metadata": {},
   "source": [
    "Create an array with 20 random floats between 0 and 1 using numpy."
   ]
  },
  {
   "cell_type": "code",
   "execution_count": 75,
   "metadata": {},
   "outputs": [
    {
     "name": "stdout",
     "output_type": "stream",
     "text": [
      "[0.47750634 0.957898   0.13446265 0.95725371 0.98212073 0.14711651\n",
      " 0.8132446  0.68178181 0.6738967  0.84822606 0.45995126 0.32904901\n",
      " 0.42217191 0.41108303 0.30698508 0.75417401 0.91887257 0.97969576\n",
      " 0.95271902 0.9119372 ]\n"
     ]
    }
   ],
   "source": [
    "my_array = np.random.uniform(0,1,20)\n",
    "print(my_array)"
   ]
  },
  {
   "cell_type": "markdown",
   "metadata": {},
   "source": [
    "Calculate the mean of the array:"
   ]
  },
  {
   "cell_type": "code",
   "execution_count": 76,
   "metadata": {},
   "outputs": [
    {
     "data": {
      "text/plain": [
       "0.6560072975081821"
      ]
     },
     "execution_count": 76,
     "metadata": {},
     "output_type": "execute_result"
    }
   ],
   "source": [
    "np.mean(my_array)"
   ]
  },
  {
   "cell_type": "markdown",
   "metadata": {},
   "source": [
    "Calculate standard deviation:"
   ]
  },
  {
   "cell_type": "code",
   "execution_count": 77,
   "metadata": {},
   "outputs": [
    {
     "data": {
      "text/plain": [
       "0.2857100541279064"
      ]
     },
     "execution_count": 77,
     "metadata": {},
     "output_type": "execute_result"
    }
   ],
   "source": [
    "np.std(my_array)"
   ]
  },
  {
   "cell_type": "markdown",
   "metadata": {},
   "source": [
    "Generate a random integer between 0 and 99 (Note: upper boundary is outside of sample):"
   ]
  },
  {
   "cell_type": "code",
   "execution_count": 78,
   "metadata": {},
   "outputs": [
    {
     "data": {
      "text/plain": [
       "51"
      ]
     },
     "execution_count": 78,
     "metadata": {},
     "output_type": "execute_result"
    }
   ],
   "source": [
    "np.random.randint(0,100)"
   ]
  },
  {
   "cell_type": "markdown",
   "metadata": {},
   "source": [
    "Generate 20 random integers between 0 and 99:"
   ]
  },
  {
   "cell_type": "code",
   "execution_count": 79,
   "metadata": {},
   "outputs": [
    {
     "data": {
      "text/plain": [
       "array([61, 46, 92, 63, 56, 77, 54, 24, 99, 30, 57,  9,  2, 88, 15, 29, 13,\n",
       "       64, 32, 45])"
      ]
     },
     "execution_count": 79,
     "metadata": {},
     "output_type": "execute_result"
    }
   ],
   "source": [
    "np.random.randint(0,100,20)"
   ]
  },
  {
   "cell_type": "markdown",
   "metadata": {},
   "source": [
    "<div class=\"alert alert-block alert-warning\">\n",
    "**Task:** Simulate 10, 100, 1000, 10000, 100000 dice throws (1-6) and calculate the mean value (= expected value). What do you observe with increasing sample sizes?\n",
    "</div>"
   ]
  },
  {
   "cell_type": "markdown",
   "metadata": {},
   "source": [
    "### General tools\n",
    "You can check the type of an object by typing:"
   ]
  },
  {
   "cell_type": "code",
   "execution_count": 11,
   "metadata": {},
   "outputs": [
    {
     "data": {
      "text/plain": [
       "list"
      ]
     },
     "execution_count": 11,
     "metadata": {},
     "output_type": "execute_result"
    }
   ],
   "source": [
    "type(my_list)"
   ]
  },
  {
   "cell_type": "markdown",
   "metadata": {},
   "source": [
    "Basic 'for' loop syntax (**mind the indentation, very important, usually 4 whitespaces or one \\t**)"
   ]
  },
  {
   "cell_type": "code",
   "execution_count": null,
   "metadata": {},
   "outputs": [],
   "source": [
    "for step in list_of_steps:\n",
    "    #do whatever"
   ]
  },
  {
   "cell_type": "markdown",
   "metadata": {},
   "source": [
    "The `range()` function is very handy in combination with for-loops. Let's create a loop that iterates through the numbers 0-20"
   ]
  },
  {
   "cell_type": "code",
   "execution_count": 98,
   "metadata": {},
   "outputs": [
    {
     "name": "stdout",
     "output_type": "stream",
     "text": [
      "0\n",
      "1\n",
      "2\n",
      "3\n",
      "4\n",
      "5\n",
      "6\n",
      "7\n",
      "8\n",
      "9\n",
      "10\n",
      "11\n",
      "12\n",
      "13\n",
      "14\n",
      "15\n",
      "16\n",
      "17\n",
      "18\n",
      "19\n",
      "20\n"
     ]
    }
   ],
   "source": [
    "for i in range(21):\n",
    "    print(i)"
   ]
  },
  {
   "cell_type": "markdown",
   "metadata": {},
   "source": [
    "You can also iterate through an existing list, e.g. our list `concatenated_list` from above. Let's also define a simple counter, to which we add `1` in every round, thereby keeping track of the number of repititions in our loop:"
   ]
  },
  {
   "cell_type": "code",
   "execution_count": 109,
   "metadata": {},
   "outputs": [
    {
     "name": "stdout",
     "output_type": "stream",
     "text": [
      "Word 1: I\n",
      "Word 2: FREAKING\n",
      "Word 3: LOVE\n",
      "Word 4: PYTHON\n",
      "Word 5: BECAUSE\n",
      "Word 6: IT\n",
      "Word 7: IS\n",
      "Word 8: BETTER\n",
      "Word 9: THAN\n",
      "Word 10: R\n"
     ]
    }
   ],
   "source": [
    "counter = 0\n",
    "for word in concatenated_list:\n",
    "    counter = counter + 1\n",
    "    print('Word %i: %s'%(counter,word))"
   ]
  },
  {
   "cell_type": "markdown",
   "metadata": {},
   "source": [
    "Sometimes you want to iterate through a list and save some variable every round. An easy way to do this is to append a variable to a list in every iteration. For this we first define an empty list at the beginning of the loop and then append new values to it every iteration.\n",
    "\n",
    "Say we want to iterate through the numbers 0-20 and record the sum of all previous numbers in every round. That would look as follows:"
   ]
  },
  {
   "cell_type": "code",
   "execution_count": 104,
   "metadata": {
    "scrolled": true
   },
   "outputs": [
    {
     "name": "stdout",
     "output_type": "stream",
     "text": [
      "[0, 0, 1, 3, 6, 10, 15, 21, 28, 36, 45, 55, 66, 78, 91, 105, 120, 136, 153, 171, 190, 210]\n"
     ]
    }
   ],
   "source": [
    "sum_list = [0]\n",
    "for i in range(21):\n",
    "    new_sum = i + sum_list[-1]\n",
    "    sum_list.append(new_sum)\n",
    "print(sum_list)"
   ]
  },
  {
   "cell_type": "markdown",
   "metadata": {},
   "source": [
    "\n",
    "<div class=\"alert alert-block alert-warning\">\n",
    "**Task:** Create a loop that prints an increasing number of words of a sentence. You can use the sentence:\n",
    "\n",
    "`If I can do this I am mastering the basic syntax of python.`\n",
    "</div>\n",
    "\n",
    "\n",
    "\n",
    "\n",
    "<div class=\"alert alert-block alert-success\">\n",
    "**Tip:** In order to iterate through the words of a string you first have to turn the string into a list. For this you can use the `split()` function from earlier in the tutorial, and split the string at each whitespace `' '` character.\n",
    "</div>\n",
    "\n",
    "\n",
    "The output should lool like this:\n"
   ]
  },
  {
   "cell_type": "code",
   "execution_count": 114,
   "metadata": {},
   "outputs": [
    {
     "name": "stdout",
     "output_type": "stream",
     "text": [
      "['If']\n",
      "['If', 'I']\n",
      "['If', 'I', 'can']\n",
      "['If', 'I', 'can', 'do']\n",
      "['If', 'I', 'can', 'do', 'this']\n",
      "['If', 'I', 'can', 'do', 'this', 'I']\n",
      "['If', 'I', 'can', 'do', 'this', 'I', 'am']\n",
      "['If', 'I', 'can', 'do', 'this', 'I', 'am', 'mastering']\n",
      "['If', 'I', 'can', 'do', 'this', 'I', 'am', 'mastering', 'the']\n",
      "['If', 'I', 'can', 'do', 'this', 'I', 'am', 'mastering', 'the', 'basic']\n",
      "['If', 'I', 'can', 'do', 'this', 'I', 'am', 'mastering', 'the', 'basic', 'syntax']\n",
      "['If', 'I', 'can', 'do', 'this', 'I', 'am', 'mastering', 'the', 'basic', 'syntax', 'of']\n",
      "['If', 'I', 'can', 'do', 'this', 'I', 'am', 'mastering', 'the', 'basic', 'syntax', 'of', 'python.']\n"
     ]
    }
   ],
   "source": []
  }
 ],
 "metadata": {
  "kernelspec": {
   "display_name": "Python 3",
   "language": "python",
   "name": "python3"
  },
  "language_info": {
   "codemirror_mode": {
    "name": "ipython",
    "version": 3
   },
   "file_extension": ".py",
   "mimetype": "text/x-python",
   "name": "python",
   "nbconvert_exporter": "python",
   "pygments_lexer": "ipython3",
   "version": "3.6.4"
  }
 },
 "nbformat": 4,
 "nbformat_minor": 2
}
