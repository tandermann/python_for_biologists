{
 "cells": [
  {
   "cell_type": "markdown",
   "metadata": {},
   "source": [
    "# Python for biologists\n",
    "\n",
    "## Tutorial 6 - Statistical models\n",
    "\n",
    "*by Tobias Andermann*\n",
    "\n",
    "In the previous tutorials we have learned the basics of the numpy and pandas libraries, as well as some basic plotting with matplotlib. Now we will cover some basics of how to do statistics in Python. We will mostly use the scipy package, which has many useful functions for statistics.\n",
    "\n",
    "________\n",
    "\n",
    "### Installation\n",
    "\n",
    "Make sure to install scipy through your bash command line.\n",
    "```\n",
    "pip install scipy\n",
    "```"
   ]
  },
  {
   "cell_type": "markdown",
   "metadata": {},
   "source": [
    "We'll need all of the following packages in this tutorial, best is to load them all now at once."
   ]
  },
  {
   "cell_type": "code",
   "execution_count": 1,
   "metadata": {},
   "outputs": [],
   "source": [
    "import numpy as np\n",
    "import pandas as pd\n",
    "import matplotlib.pyplot as plt\n",
    "import scipy\n",
    "from scipy import stats"
   ]
  },
  {
   "cell_type": "markdown",
   "metadata": {},
   "source": [
    "### Linear regression"
   ]
  },
  {
   "cell_type": "markdown",
   "metadata": {},
   "source": [
    "Load the data in the file `data/co2_temp.txt` stored in this workshops GitHub folder using the pandas library."
   ]
  },
  {
   "cell_type": "code",
   "execution_count": 21,
   "metadata": {},
   "outputs": [
    {
     "data": {
      "text/html": [
       "<div>\n",
       "<style scoped>\n",
       "    .dataframe tbody tr th:only-of-type {\n",
       "        vertical-align: middle;\n",
       "    }\n",
       "\n",
       "    .dataframe tbody tr th {\n",
       "        vertical-align: top;\n",
       "    }\n",
       "\n",
       "    .dataframe thead th {\n",
       "        text-align: right;\n",
       "    }\n",
       "</style>\n",
       "<table border=\"1\" class=\"dataframe\">\n",
       "  <thead>\n",
       "    <tr style=\"text-align: right;\">\n",
       "      <th></th>\n",
       "      <th>year</th>\n",
       "      <th>co2</th>\n",
       "      <th>temperature</th>\n",
       "    </tr>\n",
       "  </thead>\n",
       "  <tbody>\n",
       "    <tr>\n",
       "      <th>0</th>\n",
       "      <td>1880</td>\n",
       "      <td>289.469999</td>\n",
       "      <td>13.81</td>\n",
       "    </tr>\n",
       "    <tr>\n",
       "      <th>1</th>\n",
       "      <td>1881</td>\n",
       "      <td>289.736999</td>\n",
       "      <td>13.89</td>\n",
       "    </tr>\n",
       "    <tr>\n",
       "      <th>2</th>\n",
       "      <td>1882</td>\n",
       "      <td>290.018999</td>\n",
       "      <td>13.89</td>\n",
       "    </tr>\n",
       "    <tr>\n",
       "      <th>3</th>\n",
       "      <td>1883</td>\n",
       "      <td>290.262999</td>\n",
       "      <td>13.80</td>\n",
       "    </tr>\n",
       "    <tr>\n",
       "      <th>4</th>\n",
       "      <td>1884</td>\n",
       "      <td>290.511999</td>\n",
       "      <td>13.71</td>\n",
       "    </tr>\n",
       "  </tbody>\n",
       "</table>\n",
       "</div>"
      ],
      "text/plain": [
       "   year         co2  temperature\n",
       "0  1880  289.469999        13.81\n",
       "1  1881  289.736999        13.89\n",
       "2  1882  290.018999        13.89\n",
       "3  1883  290.262999        13.80\n",
       "4  1884  290.511999        13.71"
      ]
     },
     "execution_count": 21,
     "metadata": {},
     "output_type": "execute_result"
    }
   ],
   "source": []
  },
  {
   "cell_type": "markdown",
   "metadata": {},
   "source": [
    "Store the values of the `year`, `co2`, and `temperature` columns in separate numpy arrays."
   ]
  },
  {
   "cell_type": "code",
   "execution_count": null,
   "metadata": {},
   "outputs": [],
   "source": [
    "year = ???\n",
    "temp = ???\n",
    "co2 = ???"
   ]
  },
  {
   "cell_type": "markdown",
   "metadata": {},
   "source": [
    "In the following we will use a linear regression model to see if there is a linear trend in temperature through time. But first, we just plot the temperature data to get an idea of what the data looks like.\n",
    "\n",
    "**Tip:** You can change the marker style in the plot function. By default it connects all point with a line, but there are other ways you can plot the data, which you can specify with the `marker=` setting in the plot command. For example choose `marker='.'`. See overview of available styles [here](https://matplotlib.org/api/markers_api.html#module-matplotlib.markers). Additionally in order to turn off lines you can choose `linestyle=''`. \n"
   ]
  },
  {
   "cell_type": "code",
   "execution_count": 90,
   "metadata": {},
   "outputs": [
    {
     "data": {
      "text/plain": [
       "[<matplotlib.lines.Line2D at 0x1a17144780>]"
      ]
     },
     "execution_count": 90,
     "metadata": {},
     "output_type": "execute_result"
    },
    {
     "data": {
      "image/png": "[encoded data removed]",
      "text/plain": [
       "<Figure size 432x288 with 1 Axes>"
      ]
     },
     "metadata": {
      "needs_background": "light"
     },
     "output_type": "display_data"
    }
   ],
   "source": [
    "plt.plot(year,temp,marker='.',linestyle='',color='blue',label='Data')"
   ]
  },
  {
   "cell_type": "markdown",
   "metadata": {},
   "source": [
    "Now we will fit a linear regression model to these data, using the `stats.linregress()` function. The function returns the slope and intercept of the best determined regression. It further returns the r-value (measure of how strong the linear correlation of the tested variables is) and p-value (probability that slope equals 0)."
   ]
  },
  {
   "cell_type": "code",
   "execution_count": 103,
   "metadata": {},
   "outputs": [],
   "source": [
    "slope, intercept, r_value, p_value, std_err = scipy.stats.linregress(year,temp)"
   ]
  },
  {
   "cell_type": "markdown",
   "metadata": {},
   "source": [
    "To view the fitted linear regression, we can predict temperature data under the given slope and intercept and plot it together with the actual data. The most elegant way of doing this is to write a short function that applies the linear formula `y = slope * x + intercept` to a given array of x values together with a provided slope and intercept, to calculate the predicted temperature. Try to complete the function by replacing the `???` with the appropiate formula."
   ]
  },
  {
   "cell_type": "code",
   "execution_count": 98,
   "metadata": {},
   "outputs": [],
   "source": [
    "def linear_function(x,slope,intercept):\n",
    "    y = ???\n",
    "    return(y)"
   ]
  },
  {
   "cell_type": "markdown",
   "metadata": {},
   "source": [
    "Now you can apply it to the `year` array to calculate the y values predicted by our regression function:"
   ]
  },
  {
   "cell_type": "code",
   "execution_count": 99,
   "metadata": {},
   "outputs": [],
   "source": [
    "predicted_y = linear_function(year,slope,intercept)"
   ]
  },
  {
   "cell_type": "markdown",
   "metadata": {},
   "source": [
    "<div class=\"alert alert-block alert-warning\">\n",
    "**TASK:** Plot the actual data in blue and the regression line in red in the same plot.\n",
    "</div>"
   ]
  },
  {
   "cell_type": "code",
   "execution_count": 100,
   "metadata": {},
   "outputs": [
    {
     "data": {
      "image/png": "[encoded data removed]",
      "text/plain": [
       "<Figure size 432x288 with 1 Axes>"
      ]
     },
     "metadata": {
      "needs_background": "light"
     },
     "output_type": "display_data"
    }
   ],
   "source": [
    "plt.plot(year,temp,marker='.',linestyle='',color='blue',label='Data')\n",
    "plt.plot(year,predicted_y,color='red',label='Regression line')\n",
    "plt.xlabel('Year')\n",
    "plt.ylabel('Global temperature')\n",
    "plt.legend();"
   ]
  },
  {
   "cell_type": "markdown",
   "metadata": {},
   "source": [
    "<div class=\"alert alert-block alert-warning\">\n",
    "**TASK:** Run a linear regression model for the CO2 data in the same way as we did for global temperature. Plot the data and the regression line in the same manner as above.\n",
    "</div>"
   ]
  },
  {
   "cell_type": "code",
   "execution_count": 82,
   "metadata": {
    "scrolled": true
   },
   "outputs": [
    {
     "data": {
      "image/png": "[encoded data removed]",
      "text/plain": [
       "<Figure size 432x288 with 1 Axes>"
      ]
     },
     "metadata": {
      "needs_background": "light"
     },
     "output_type": "display_data"
    }
   ],
   "source": []
  },
  {
   "cell_type": "markdown",
   "metadata": {},
   "source": [
    "Instead of looking at the temperature and CO2 arrays separately through time, we can also use a linear regression model to test if the two are correlated with each other (testing this climate change stuff everyone is talking about)."
   ]
  },
  {
   "cell_type": "code",
   "execution_count": 220,
   "metadata": {},
   "outputs": [],
   "source": [
    "slope, intercept, r_value, p_value, std_err = scipy.stats.linregress(co2,temp)"
   ]
  },
  {
   "cell_type": "markdown",
   "metadata": {},
   "source": [
    "The R value represents the correlation coefficient. This shows how strong the linear relationship is between the two variables temperature and CO2 content. An R value of more than 0.8 signifies a high positive correlation. What do we get here?"
   ]
  },
  {
   "cell_type": "code",
   "execution_count": 223,
   "metadata": {},
   "outputs": [
    {
     "data": {
      "text/plain": [
       "0.9397825066375002"
      ]
     },
     "execution_count": 223,
     "metadata": {},
     "output_type": "execute_result"
    }
   ],
   "source": [
    "r_value"
   ]
  },
  {
   "cell_type": "markdown",
   "metadata": {},
   "source": [
    "The p-value is also interesting as it shows the probability of the null hyothesis being true. The null hypothesis is that the slope equals 0, i.e. that there is no correlation whatsoever. What do we get here?"
   ]
  },
  {
   "cell_type": "code",
   "execution_count": 224,
   "metadata": {},
   "outputs": [
    {
     "data": {
      "text/plain": [
       "2.813701898143606e-65"
      ]
     },
     "execution_count": 224,
     "metadata": {},
     "output_type": "execute_result"
    }
   ],
   "source": [
    "p_value"
   ]
  },
  {
   "cell_type": "markdown",
   "metadata": {},
   "source": [
    "What about that p-value, Mr. Trump?\n",
    "\n",
    "<div class=\"alert alert-block alert-warning\">\n",
    "**TASK:** Plot the data and the regression line for CO2 against temperature.\n",
    "</div>"
   ]
  },
  {
   "cell_type": "code",
   "execution_count": 225,
   "metadata": {},
   "outputs": [
    {
     "data": {
      "image/png": "[encoded data removed]",
      "text/plain": [
       "<Figure size 432x288 with 1 Axes>"
      ]
     },
     "metadata": {
      "needs_background": "light"
     },
     "output_type": "display_data"
    }
   ],
   "source": []
  },
  {
   "cell_type": "markdown",
   "metadata": {},
   "source": [
    "_____\n",
    "\n",
    "### Fitting other models\n",
    "\n",
    "Particularly for the CO2 data you can see that a linear model is maybe not the most suitable, but that the CO2 content is increasing at increasing rates. Let's try to fit a power function instead. To fit any desired function to the data, we can use the `curve_fit()` function of scipy.\n",
    "\n",
    "Let us first define the power function in the same way as we did above for the linear function. This function has two parameters that are called a and b (the linear function has two parameters as well which we called slope and intercept)."
   ]
  },
  {
   "cell_type": "code",
   "execution_count": 186,
   "metadata": {},
   "outputs": [],
   "source": [
    "def power_function(x,a,b):\n",
    "    y = float(a)*x**float(b)\n",
    "    return y"
   ]
  },
  {
   "cell_type": "markdown",
   "metadata": {},
   "source": [
    "Before fitting the power function it is important that we rescale our input data, i.e. they should start at the value 0. Think for a moment how you can accomplish that, given what you know about array math operations."
   ]
  },
  {
   "cell_type": "code",
   "execution_count": 193,
   "metadata": {},
   "outputs": [],
   "source": [
    "year_adjusted = ???\n",
    "co2_adjusted = ???"
   ]
  },
  {
   "cell_type": "markdown",
   "metadata": {},
   "source": [
    "After rescaling the two arrays, and after having defined the function to optimize, we can now fit the power function to the data using the `curve_fit()` function. The output of this function looks a bit different than that of the `linregress()` function we used earlier. This function outputs two lists, the ifrst of which contains our model parameters:"
   ]
  },
  {
   "cell_type": "code",
   "execution_count": 199,
   "metadata": {},
   "outputs": [
    {
     "data": {
      "text/plain": [
       "array([1.34618012e-03, 2.29628011e+00])"
      ]
     },
     "execution_count": 199,
     "metadata": {},
     "output_type": "execute_result"
    }
   ],
   "source": [
    "parameters, covariance = scipy.optimize.curve_fit(power_function,year_adjusted,co2_adjusted)\n",
    "parameters"
   ]
  },
  {
   "cell_type": "markdown",
   "metadata": {},
   "source": [
    "Assign the model parameters to the variables a and b:"
   ]
  },
  {
   "cell_type": "code",
   "execution_count": 201,
   "metadata": {},
   "outputs": [
    {
     "name": "stdout",
     "output_type": "stream",
     "text": [
      "0.0013461801228692922 2.2962801086451843\n"
     ]
    }
   ],
   "source": [
    "a,b = parameters\n",
    "print(a,b)"
   ]
  },
  {
   "cell_type": "markdown",
   "metadata": {},
   "source": [
    "<div class=\"alert alert-block alert-warning\">\n",
    "**TASK:** Now plot the new fitted power function on top of the the data. First produce an array of predicted y-values for the target years, just as we did for the linear function. Preferably also reverse the rescaling of the x and y values, so the final plot contains actual years and CO2 values (not the rescaled values that we needed to fit the power function). The final plot should look like the one you see below.\n",
    "</div>\n"
   ]
  },
  {
   "cell_type": "code",
   "execution_count": 209,
   "metadata": {},
   "outputs": [
    {
     "data": {
      "image/png": "[encoded data removed]",
      "text/plain": [
       "<Figure size 432x288 with 1 Axes>"
      ]
     },
     "metadata": {
      "needs_background": "light"
     },
     "output_type": "display_data"
    }
   ],
   "source": []
  },
  {
   "cell_type": "markdown",
   "metadata": {},
   "source": [
    "Our model enables us e.g. to predict the expected CO2 content for future years.\n",
    "<div class=\"alert alert-block alert-warning\">\n",
    "**TASK:** Use the fitted power function to calculate the predicted value for the year 2050?\n",
    "</div>\n"
   ]
  },
  {
   "cell_type": "markdown",
   "metadata": {},
   "source": [
    "____\n",
    "\n",
    "**You are ready, young padawan!**\n",
    "\n",
    "If you want to dive deeper into doing statistics in Python, there are many great online tutorials. With the basic knowledge covered in the tutorials of this course, you should be able to get started exploring the Python world by yourself. You can for example try [this statistics tutorial here](https://scipy-lectures.org/packages/statistics/index.html)."
   ]
  }
 ],
 "metadata": {
  "kernelspec": {
   "display_name": "Python 3",
   "language": "python",
   "name": "python3"
  },
  "language_info": {
   "codemirror_mode": {
    "name": "ipython",
    "version": 3
   },
   "file_extension": ".py",
   "mimetype": "text/x-python",
   "name": "python",
   "nbconvert_exporter": "python",
   "pygments_lexer": "ipython3",
   "version": "3.7.4"
  }
 },
 "nbformat": 4,
 "nbformat_minor": 2
}
